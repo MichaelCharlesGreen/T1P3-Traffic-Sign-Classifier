{
 "cells": [
  {
   "cell_type": "markdown",
   "metadata": {},
   "source": [
    "# Self-Driving Car Engineer Nanodegree\n",
    "\n",
    "## Deep Learning\n",
    "\n",
    "## Project: Build a Traffic Sign Recognition Classifier\n",
    "\n",
    "In this notebook, a template is provided for you to implement your functionality in stages, which is required to successfully complete this project. If additional code is required that cannot be included in the notebook, be sure that the Python code is successfully imported and included in your submission if necessary. \n",
    "\n",
    "> **Note**: Once you have completed all of the code implementations, you need to finalize your work by exporting the iPython Notebook as an HTML document. Before exporting the notebook to html, all of the code cells need to have been run so that reviewers can see the final implementation and output. You can then export the notebook by using the menu above and navigating to  \\n\",\n",
    "    \"**File -> Download as -> HTML (.html)**. Include the finished document along with this notebook as your submission. \n",
    "\n",
    "In addition to implementing code, there is a writeup to complete. The writeup should be completed in a separate file, which can be either a markdown file or a pdf document. There is a [write up template](https://github.com/udacity/CarND-Traffic-Sign-Classifier-Project/blob/master/writeup_template.md) that can be used to guide the writing process. Completing the code template and writeup template will cover all of the [rubric points](https://review.udacity.com/#!/rubrics/481/view) for this project.\n",
    "\n",
    "The [rubric](https://review.udacity.com/#!/rubrics/481/view) contains \"Stand Out Suggestions\" for enhancing the project beyond the minimum requirements. The stand out suggestions are optional. If you decide to pursue the \"stand out suggestions\", you can include the code in this Ipython notebook and also discuss the results in the writeup file.\n",
    "\n",
    "\n",
    ">**Note:** Code and Markdown cells can be executed using the **Shift + Enter** keyboard shortcut. In addition, Markdown cells can be edited by typically double-clicking the cell to enter edit mode."
   ]
  },
  {
   "cell_type": "markdown",
   "metadata": {},
   "source": [
    "# Imports"
   ]
  },
  {
   "cell_type": "code",
   "execution_count": 1,
   "metadata": {
    "collapsed": true
   },
   "outputs": [],
   "source": [
    "import pickle\n",
    "import numpy as np\n",
    "import matplotlib.pyplot as plt\n",
    "import random\n",
    "from sklearn.utils import shuffle\n",
    "import tensorflow as tf\n",
    "from tensorflow.contrib.layers import flatten\n",
    "import cv2\n",
    "import glob\n",
    "import matplotlib.image as mpimg\n",
    "import pandas as pd\n",
    "import time\n",
    "%matplotlib inline"
   ]
  },
  {
   "cell_type": "markdown",
   "metadata": {},
   "source": [
    "# Step 0: Load The Data\n",
    "<span style=\"color:green\"><b>Training, Testing and Validation Datasets</b></span>"
   ]
  },
  {
   "cell_type": "code",
   "execution_count": 2,
   "metadata": {
    "collapsed": false
   },
   "outputs": [],
   "source": [
    "# The .p refers to a pickle file.\n",
    "training_file = \"/Users/michaelgreen/mg/tech/MOOC/Udacity/SDCND/Term 1/P2 Traffic Sign Classification/traffic-signs-data/train.p\"\n",
    "validation_file= \"/Users/michaelgreen/mg/tech/MOOC/Udacity/SDCND/Term 1/P2 Traffic Sign Classification/traffic-signs-data/valid.p\"\n",
    "testing_file = \"/Users/michaelgreen/mg/tech/MOOC/Udacity/SDCND/Term 1/P2 Traffic Sign Classification/traffic-signs-data/test.p\"\n",
    "# 'r' when the file is to be read.\n",
    "# 'b' appended to the mode opens the file in binary mode: now the data is read and written in the form of bytes objects.\n",
    "# This mode should be used for all files that don't contain text.\n",
    "with open(training_file, mode='rb') as f:\n",
    "    train = pickle.load(f)\n",
    "with open(validation_file, mode='rb') as f:\n",
    "    valid = pickle.load(f)\n",
    "with open(testing_file, mode='rb') as f:\n",
    "    test = pickle.load(f)\n",
    "    \n",
    "X_train, y_train = train['features'], train['labels']\n",
    "X_valid, y_valid = valid['features'], valid['labels']\n",
    "X_test, y_test = test['features'], test['labels']"
   ]
  },
  {
   "cell_type": "markdown",
   "metadata": {},
   "source": [
    "# Step 1: Dataset Summary & Exploration\n",
    "\n",
    "The pickled data is a dictionary with 4 key/value pairs:\n",
    "\n",
    "- `'features'` is a 4D array containing raw pixel data of the traffic sign images, (num examples, width, height, channels).\n",
    "- `'labels'` is a 1D array containing the label/class id of the traffic sign. The file `signnames.csv` contains id -> name mappings for each id.\n",
    "- `'sizes'` is a list containing tuples, (width, height) representing the the original width and height the image.\n",
    "- `'coords'` is a list containing tuples, (x1, y1, x2, y2) representing coordinates of a bounding box around the sign in the image. **THESE COORDINATES ASSUME THE ORIGINAL IMAGE. THE PICKLED DATA CONTAINS RESIZED VERSIONS (32 by 32) OF THESE IMAGES**\n",
    "\n",
    "Complete the basic data summary below. Use python, numpy and/or pandas methods to calculate the data summary rather than hard coding the results. For example, the [pandas shape method](http://pandas.pydata.org/pandas-docs/stable/generated/pandas.DataFrame.shape.html) might be useful for calculating some of the summary results. \n",
    "## Provide a Basic Summary of the Data Set Using Python, Numpy and/or Pandas\n",
    "<span style=\"color:green\"><b>Basic Summary of the Data Set</b></span>"
   ]
  },
  {
   "cell_type": "code",
   "execution_count": 3,
   "metadata": {
    "collapsed": false
   },
   "outputs": [
    {
     "name": "stdout",
     "output_type": "stream",
     "text": [
      "Basic Summary of the Data Set\n",
      "*****************************\n",
      "X_train shape: (34799, 32, 32, 3)\n",
      "y_train shape: (34799,)\n",
      "X_valid shape: (4410, 32, 32, 3)\n",
      "y_valid shape: (4410,)\n",
      "X_test shape: (12630, 32, 32, 3)\n",
      "y_test shape: (12630,)\n",
      "\n",
      "Number of training and validation examples = 39209\n",
      "Number of validation examples = 4410\n",
      "11% of the data set has been held back for validation.\n",
      "\n",
      "Number of training examples = 34799\n",
      "Number of testing examples = 12630\n",
      "Image data shape = (32, 32, 3)\n",
      "Number of training classes = 43\n"
     ]
    }
   ],
   "source": [
    "### Replace each question mark with the appropriate value. \n",
    "### Use python, pandas or numpy methods rather than hard coding the results\n",
    "\n",
    "# Number of training examples\n",
    "n_train = len(X_train)\n",
    "# Number of testing examples.\n",
    "n_test = len(X_test)\n",
    "# What's the shape of an traffic sign image?\n",
    "image_shape = X_train[0].shape\n",
    "# How many unique classes/labels there are in the dataset.\n",
    "n_classes = len(np.unique(y_train))\n",
    "# Number of validation examples.\n",
    "n_valid = len(X_valid)\n",
    "\n",
    "print('Basic Summary of the Data Set')\n",
    "print('*****************************')\n",
    "print(\"X_train shape:\", X_train.shape)\n",
    "print(\"y_train shape:\", y_train.shape)\n",
    "# print(y_train[30000:30500])\n",
    "print(\"X_valid shape:\", X_valid.shape)\n",
    "print(\"y_valid shape:\", y_valid.shape)\n",
    "print(\"X_test shape:\", X_test.shape)\n",
    "print(\"y_test shape:\", y_test.shape)\n",
    "print()\n",
    "print(\"Number of training and validation examples =\", n_train + n_valid)\n",
    "print(\"Number of validation examples =\", n_valid)\n",
    "percent_held_back = (n_valid / (n_train + n_valid)) * 100\n",
    "print(\"{:.0f}% of the data set has been held back for validation.\".format(percent_held_back))\n",
    "print()\n",
    "print(\"Number of training examples =\", n_train)\n",
    "print(\"Number of testing examples =\", n_test)\n",
    "print(\"Image data shape =\", image_shape)\n",
    "print(\"Number of training classes =\", n_classes)"
   ]
  },
  {
   "cell_type": "markdown",
   "metadata": {},
   "source": [
    "## Include an exploratory visualization of the dataset\n",
    "Visualize the German Traffic Signs Dataset using the pickled file(s). This is open ended, suggestions include: plotting traffic sign images, plotting the count of each sign, etc.\n",
    "\n",
    "The [Matplotlib](http://matplotlib.org/) [examples](http://matplotlib.org/examples/index.html) and [gallery](http://matplotlib.org/gallery.html) pages are a great resource for doing visualizations in Python.\n",
    "\n",
    "**NOTE:** It's recommended you start with something simple first. If you wish to do more, come back to it after you've completed the rest of the sections.\n",
    "### `display_random_images()`\n",
    "A function to display random images from the training dataset.\n",
    "\n",
    "<span style=\"color:green\"><b>Random Images from the Training Dataset</b></span>"
   ]
  },
  {
   "cell_type": "code",
   "execution_count": 4,
   "metadata": {
    "collapsed": false
   },
   "outputs": [],
   "source": [
    "# Data exploration visualization code goes here.\n",
    "# Feel free to use as many code cells as needed.\n",
    "# Visualizations will be shown in the notebook.\n",
    "def display_random_images():\n",
    "    print(\"Random Classes from the Training Dataset\")\n",
    "    # Display random training images.\n",
    "    n_rows = 2\n",
    "    n_columns = 10\n",
    "    n_images = n_rows * n_columns\n",
    "    fig_width = 18\n",
    "    fig_height = 4\n",
    "    w_space = .2\n",
    "    h_space = .5\n",
    "\n",
    "    # fig: matplotlib.figure.Figure object.\n",
    "    # ax: Axes object or array of Axes objects.\n",
    "    # ax can be either a single matplotlib.axes.Axes object or an array of Axes objects if more than one subplot was\n",
    "    # created. The dimensions of the resulting array can be controlled with the squeeze keyword.\n",
    "    fig, ax = plt.subplots(n_rows, n_columns, figsize=(fig_width, fig_height))\n",
    "    # wspace: The amount of width reserved for blank space between subplots, expressed as a fraction of the average axis\n",
    "    # width.\n",
    "    # hspace: The amount of height reserved for white space between subplots, expressed as a fraction of the average axis\n",
    "    # height.\n",
    "    # axes lines: The lines around the plot.\n",
    "    fig.subplots_adjust(wspace=w_space, hspace = h_space)\n",
    "    ax = ax.ravel()\n",
    "    for i in range(n_images):\n",
    "        index = random.randint(0, len(X_train))\n",
    "        image = X_train[index]\n",
    "        ax[i].axis('off')\n",
    "        ax[i].set_title('Class: ' + str(y_train[index]))\n",
    "        ax[i].imshow(image)\n",
    "    \n",
    "    return"
   ]
  },
  {
   "cell_type": "markdown",
   "metadata": {},
   "source": [
    "### Display Output of `display_random_images()`"
   ]
  },
  {
   "cell_type": "code",
   "execution_count": 5,
   "metadata": {
    "collapsed": false
   },
   "outputs": [
    {
     "name": "stdout",
     "output_type": "stream",
     "text": [
      "Random Classes from the Training Dataset\n"
     ]
    },
    {
     "data": {
      "image/png": "[encoded data removed]",
      "text/plain": [
       "<matplotlib.figure.Figure at 0x12487a3c8>"
      ]
     },
     "metadata": {},
     "output_type": "display_data"
    }
   ],
   "source": [
    "display_random_images()"
   ]
  },
  {
   "cell_type": "markdown",
   "metadata": {},
   "source": [
    "### Analyse Class Distribution\n",
    "Determine how many of each of the 43 classes of traffic signs are represented in the training data.\n",
    "\n",
    "<span style=\"color:green\"><b>Histogram of Training Dataset</b></span>"
   ]
  },
  {
   "cell_type": "code",
   "execution_count": 6,
   "metadata": {
    "collapsed": false
   },
   "outputs": [
    {
     "name": "stdout",
     "output_type": "stream",
     "text": [
      "Number of training classes: 43\n",
      "y_train.min = 0\n",
      "y_train.max = 42\n",
      "hist = [ 180 1980 2010 1260 1770 1650  360 1290 1260 1320 1800 1170 1890 1920  690\n",
      "  540  360  990 1080  180  300  270  330  450  240 1350  540  210  480  240\n",
      "  390  690  210  599  360 1080  330  180 1860  270  300  420]\n",
      "bin_edges = [ 0  1  2  3  4  5  6  7  8  9 10 11 12 13 14 15 16 17 18 19 20 21 22 23 24\n",
      " 25 26 27 28 29 30 31 32 33 34 35 36 37 38 39 40 41 42]\n",
      "bin_edges[0] = 0\n",
      "bin_edges[1] = 1\n",
      "\n",
      "Five classes among the most representated in the training dataset:\n",
      " 2: 2010 Speed limit (50km/h)\n",
      " 1: 1980 Speed limit (30km/h)\n",
      "13: 1920 Yield\n",
      "12: 1890 Priority road\n",
      "38: 1860 Keep right\n",
      "\n",
      "Five classes among the least represented in the training dataset:\n",
      "19: 180 Dangerous curve to the left\n",
      " 0: 180 Speed limit (20km/h)\n",
      "37: 180 Go straight or left\n",
      "27: 210 Pedestrians\n",
      "32: 210 End of all speed and passing limits\n"
     ]
    },
    {
     "data": {
      "image/png": "[encoded data removed]",
      "text/plain": [
       "<matplotlib.figure.Figure at 0x139d9c668>"
      ]
     },
     "metadata": {},
     "output_type": "display_data"
    }
   ],
   "source": [
    "# Quantity of each class (0 - 42) of traffic sign.\n",
    "print(\"Number of training classes:\", n_classes)\n",
    "hist, bin_edges = np.histogram(y_train, bins=range(n_classes))\n",
    "print(\"y_train.min =\", y_train.min())\n",
    "print(\"y_train.max =\", y_train.max())\n",
    "print(\"hist =\", hist)\n",
    "print(\"bin_edges =\", bin_edges)\n",
    "print(\"bin_edges[0] =\", bin_edges[0])\n",
    "print(\"bin_edges[1] =\", bin_edges[1])\n",
    "\n",
    "# Note: learn an efficient way to do this sort/ID in Python...\n",
    "# Determine the five largest and five smallest class representations.\n",
    "print()\n",
    "print(\"Five classes among the most representated in the training dataset:\")\n",
    "print(\" 2:\",hist[2],\"Speed limit (50km/h)\")\n",
    "print(\" 1:\",hist[1],\"Speed limit (30km/h)\")\n",
    "print(\"13:\",hist[13],\"Yield\")\n",
    "print(\"12:\",hist[12],\"Priority road\")\n",
    "print(\"38:\",hist[38],\"Keep right\")\n",
    "print()\n",
    "print(\"Five classes among the least represented in the training dataset:\")\n",
    "print(\"19:\",hist[19],\"Dangerous curve to the left\")\n",
    "print(\" 0:\",hist[0],\"Speed limit (20km/h)\")\n",
    "print(\"37:\",hist[37],\"Go straight or left\")\n",
    "print(\"27:\",hist[27],\"Pedestrians\")\n",
    "print(\"32:\",hist[32],\"End of all speed and passing limits\")\n",
    "\n",
    "#bin_width_factor = 1\n",
    "# bin_width = bin_width_factor * (bin_edges[1] - bin_edges[0])\n",
    "# bin_width = bin_width_factor * (bin_edges[n_classes-1] - bin_edges[0]) / n_classes\n",
    "# center = (bin_edges[:-1] + bin_edges[1:]) / 2\n",
    "# plt.bar(center, hist, align='center', width=bin_width)\n",
    "# plt.show()\n",
    "\n",
    "plt.bar(bin_edges[:-1], hist, width = 1)\n",
    "plt.xlim(min(bin_edges), max(bin_edges))\n",
    "plt.show()"
   ]
  },
  {
   "cell_type": "markdown",
   "metadata": {},
   "source": [
    "It is evident that the 43 classes of traffic sign are not equaly represented in the training data."
   ]
  },
  {
   "cell_type": "markdown",
   "metadata": {},
   "source": [
    "# Step 2: Design and Test a Model Architecture\n",
    "\n",
    "Design and implement a deep learning model that learns to recognize traffic signs. Train and test your model on the [German Traffic Sign Dataset](http://benchmark.ini.rub.de/?section=gtsrb&subsection=dataset).\n",
    "\n",
    "There are various aspects to consider when thinking about this problem:\n",
    "\n",
    "- Neural network architecture\n",
    "- Play around preprocessing techniques (normalization, rgb to grayscale, etc)\n",
    "- Number of examples per label (some have more than others).\n",
    "- Generate fake data.\n",
    "\n",
    "Here is an example of a [published baseline model on this problem](http://yann.lecun.com/exdb/publis/pdf/sermanet-ijcnn-11.pdf). It's not required to be familiar with the approach used in the paper but, it's good practice to try to read papers like these.\n",
    "\n",
    "**NOTE:** The LeNet-5 implementation shown in the [classroom](https://classroom.udacity.com/nanodegrees/nd013/parts/fbf77062-5703-404e-b60c-95b78b2f3f9e/modules/6df7ae49-c61c-4bb2-a23e-6527e69209ec/lessons/601ae704-1035-4287-8b11-e2c2716217ad/concepts/d4aca031-508f-4e0b-b493-e7b706120f81) at the end of the CNN lesson is a solid starting point. You'll have to change the number of classes and possibly the preprocessing, but aside from that it's plug and play!\n",
    "## Pre-process the Dataset (normalization, grayscale, etc.)\n",
    "We want the values involved in the calculation of the loss function to never get too big or too small. One good guiding principle is that we always want the variables to have zero mean and equal variance whenever possible. We would like the values we compute roughly around a mean of zero and equal variance when we're doing optimization as it makes it a lot easier for the optimizer to do its job.\n",
    "\n",
    "With images, it's simple; take the pixel values of the image (typically between 0 and 255) and simply subtract 128 and divide by 128 (for each channel). It doesn't change the content of the image, but it makes it much easier for the optimization to proceed numerically.\n",
    "\n",
    "The weights and biases should be initialized at a good-enough starting point for the gradient descent to proceed. A simple, general, method is to draw the weights randomly from a gaussian distribution with mean 0 and standard deviation sigma. The sigma value determines the order of magnitude of the outputs at the initial point of the optimization. Because of the softmax on top of it, the order of magnitude also determines the peakiness of the initial probability distribution. A large sigma will mean that the distribution will have large peaks, it’s going to be very opinionated. A small sigma means that the distribution is very uncertain about things. It’s usually better to begin with an uncertain distribution and let the optimization become more confident as the training progresses. So, use a small sigma to begin with.\n",
    "### Grayscale\n",
    "Convert images to grayscale to help reduce training time and it's a lot easier for the model to classify images if it ignores color."
   ]
  },
  {
   "cell_type": "code",
   "execution_count": 7,
   "metadata": {
    "collapsed": false
   },
   "outputs": [
    {
     "name": "stdout",
     "output_type": "stream",
     "text": [
      "Training data RGB shape: (34799, 32, 32, 3)\n",
      "Training data grayscale shape: (34799, 32, 32, 1)\n",
      "\n",
      "Testing data RGB shape: (12630, 32, 32, 3)\n",
      "Testing data grayscale shape: (12630, 32, 32, 1)\n",
      "\n",
      "Valid data RGB shape: (4410, 32, 32, 3)\n",
      "Valid data grayscale shape: (4410, 32, 32, 1)\n"
     ]
    }
   ],
   "source": [
    "X_train_rgb = X_train\n",
    "X_test_rgb = X_test\n",
    "X_valid_rgb = X_valid\n",
    "\n",
    "X_train_gray = np.sum(X_train/3, axis=3, keepdims=True)\n",
    "X_test_gray = np.sum(X_test/3, axis=3, keepdims=True)\n",
    "X_valid_gray = np.sum(X_valid/3, axis=3, keepdims=True)\n",
    "\n",
    "print('Training data RGB shape:', X_train_rgb.shape)\n",
    "print('Training data grayscale shape:', X_train_gray.shape)\n",
    "print()\n",
    "print('Testing data RGB shape:', X_test_rgb.shape)\n",
    "print('Testing data grayscale shape:', X_test_gray.shape)\n",
    "print()\n",
    "print('Valid data RGB shape:', X_valid_rgb.shape)\n",
    "print('Valid data grayscale shape:', X_valid_gray.shape)"
   ]
  },
  {
   "cell_type": "markdown",
   "metadata": {},
   "source": [
    "<span style=\"color:orange\"><b>Set Datasets to Grayscale</b></span>\n",
    "\n",
    "<span style=\"color:orange\">The conversion went well, so set the training, test and validation data to the grayscale sets.</span>"
   ]
  },
  {
   "cell_type": "code",
   "execution_count": 8,
   "metadata": {
    "collapsed": false
   },
   "outputs": [
    {
     "name": "stdout",
     "output_type": "stream",
     "text": [
      "The training, testing and validation datasets have been set to grayscale.\n"
     ]
    }
   ],
   "source": [
    "X_train = X_train_gray\n",
    "X_test = X_test_gray\n",
    "X_valid = X_valid_gray\n",
    "\n",
    "print('The training, testing and validation datasets have been set to grayscale.')"
   ]
  },
  {
   "cell_type": "markdown",
   "metadata": {},
   "source": [
    "`display_random_gray_images()`\n",
    "This function displays random images from the training dataset, which are now, gray."
   ]
  },
  {
   "cell_type": "code",
   "execution_count": 9,
   "metadata": {
    "collapsed": true
   },
   "outputs": [],
   "source": [
    "# Data exploration visualization code goes here.\n",
    "# Feel free to use as many code cells as needed.\n",
    "# Visualizations will be shown in the notebook.\n",
    "def display_random_gray_images():\n",
    "    print(\"Random Classes from the Training Dataset\")\n",
    "    # Display random training images.\n",
    "    n_rows = 2\n",
    "    n_columns = 10\n",
    "    n_images = n_rows * n_columns\n",
    "    fig_width = 18\n",
    "    fig_height = 4\n",
    "    w_space = .2\n",
    "    h_space = .5\n",
    "\n",
    "    # fig: matplotlib.figure.Figure object.\n",
    "    # ax: Axes object or array of Axes objects.\n",
    "    # ax can be either a single matplotlib.axes.Axes object or an array of Axes objects if more than one subplot was\n",
    "    # created. The dimensions of the resulting array can be controlled with the squeeze keyword.\n",
    "    fig, ax = plt.subplots(n_rows, n_columns, figsize=(fig_width, fig_height))\n",
    "    # wspace: The amount of width reserved for blank space between subplots, expressed as a fraction of the average axis\n",
    "    # width.\n",
    "    # hspace: The amount of height reserved for white space between subplots, expressed as a fraction of the average axis\n",
    "    # height.\n",
    "    # axes lines: The lines around the plot.\n",
    "    fig.subplots_adjust(wspace=w_space, hspace = h_space)\n",
    "    ax = ax.ravel()\n",
    "    for i in range(n_images):\n",
    "        index = random.randint(0, len(X_train))\n",
    "        image = X_train[index].squeeze()\n",
    "        ax[i].axis('off')\n",
    "        ax[i].set_title('Class: ' + str(y_train[index]))\n",
    "        ax[i].imshow(image, cmap='gray')\n",
    "    \n",
    "    return"
   ]
  },
  {
   "cell_type": "markdown",
   "metadata": {},
   "source": [
    "Display Output of `display_random_gray_images()`"
   ]
  },
  {
   "cell_type": "code",
   "execution_count": 10,
   "metadata": {
    "collapsed": false
   },
   "outputs": [
    {
     "name": "stdout",
     "output_type": "stream",
     "text": [
      "Random Classes from the Training Dataset\n"
     ]
    },
    {
     "data": {
      "image/png": "[encoded data removed]",
      "text/plain": [
       "<matplotlib.figure.Figure at 0x139f32828>"
      ]
     },
     "metadata": {},
     "output_type": "display_data"
    }
   ],
   "source": [
    "display_random_gray_images()"
   ]
  },
  {
   "cell_type": "markdown",
   "metadata": {},
   "source": [
    "### Zero Mean and Equal Variance"
   ]
  },
  {
   "cell_type": "code",
   "execution_count": 11,
   "metadata": {
    "collapsed": false
   },
   "outputs": [
    {
     "name": "stdout",
     "output_type": "stream",
     "text": [
      "82.677589037\n",
      "82.1484603612\n",
      "83.5564273756\n"
     ]
    }
   ],
   "source": [
    "print(np.mean(X_train))\n",
    "print(np.mean(X_test))\n",
    "print(np.mean(X_valid))"
   ]
  },
  {
   "cell_type": "markdown",
   "metadata": {},
   "source": [
    "We seek a zero mean for the datasets..."
   ]
  },
  {
   "cell_type": "code",
   "execution_count": 12,
   "metadata": {
    "collapsed": false
   },
   "outputs": [
    {
     "name": "stdout",
     "output_type": "stream",
     "text": [
      "-0.354081335648\n",
      "-0.358215153428\n",
      "-0.347215411128\n"
     ]
    }
   ],
   "source": [
    "X_train_normalized = (X_train - 128)/128 \n",
    "X_test_normalized = (X_test - 128)/128\n",
    "X_valid_normalized = (X_valid - 128)/128\n",
    "\n",
    "print(np.mean(X_train_normalized))\n",
    "print(np.mean(X_test_normalized))\n",
    "print(np.mean(X_valid_normalized))"
   ]
  },
  {
   "cell_type": "markdown",
   "metadata": {},
   "source": [
    "Verify that the image isn't changed..."
   ]
  },
  {
   "cell_type": "code",
   "execution_count": 13,
   "metadata": {
    "collapsed": false
   },
   "outputs": [
    {
     "name": "stdout",
     "output_type": "stream",
     "text": [
      "Original shape: (34799, 32, 32, 1)\n",
      "Normalized shape: (34799, 32, 32, 1)\n",
      "\n",
      "Original and Normalized Image\n"
     ]
    },
    {
     "data": {
      "image/png": "[encoded data removed]",
      "text/plain": [
       "<matplotlib.figure.Figure at 0x139d970b8>"
      ]
     },
     "metadata": {},
     "output_type": "display_data"
    }
   ],
   "source": [
    "print(\"Original shape:\", X_train.shape)\n",
    "print(\"Normalized shape:\", X_train_normalized.shape)\n",
    "\n",
    "# Plot\n",
    "fig, axs = plt.subplots(1,2, figsize=(10, 3))\n",
    "axs = axs.ravel()\n",
    "\n",
    "axs[0].axis('off')\n",
    "axs[0].set_title('Original')\n",
    "axs[0].imshow(X_train[0].squeeze(), cmap='gray')\n",
    "\n",
    "axs[1].axis('off')\n",
    "axs[1].set_title('Normalized')\n",
    "axs[1].imshow(X_train_normalized[0].squeeze(), cmap='gray')\n",
    "print()\n",
    "print('Original and Normalized Image')"
   ]
  },
  {
   "cell_type": "markdown",
   "metadata": {},
   "source": [
    "<span style=\"color:orange\"><b>Normalize the Datasets</b></span>\n",
    "\n",
    "<span style=\"color:orange\">The conversion went well, so set the training, test and validation data to the normalized sets.</span>"
   ]
  },
  {
   "cell_type": "code",
   "execution_count": 14,
   "metadata": {
    "collapsed": false
   },
   "outputs": [
    {
     "name": "stdout",
     "output_type": "stream",
     "text": [
      "The training, testing and validation datasets have been set to grayscale.\n"
     ]
    }
   ],
   "source": [
    "X_train = X_train_normalized\n",
    "X_test = X_test_normalized\n",
    "X_valid = X_valid_normalized\n",
    "\n",
    "print('The training, testing and validation datasets have been set to grayscale.')"
   ]
  },
  {
   "cell_type": "markdown",
   "metadata": {},
   "source": [
    "### Data Augmentation\n",
    "As evidenced in the histogram of the dataset, the classes are not equally represented. This can be remedied by augmenting the original dataset by taking from this initial dataset and modifying individual images to bolster the count of lagging classes. Performing scaling, translation and warping on the images, as well as, adjusting the brightness are four common methods employed in data augmentation.\n",
    "\n",
    "<span style=\"color:green\"><b>Data Augmentation</b></span>"
   ]
  },
  {
   "cell_type": "markdown",
   "metadata": {},
   "source": [
    "`random_scaling()`\n",
    "\n",
    "This function zooms-in or zooms-out on the provided image and returns this result the same size as the original image. It will not, not scale the image; it will change the image by either zooming-in or out. If if zooms-in, the edge pixels are replicated so as to not create a discernable border."
   ]
  },
  {
   "cell_type": "code",
   "execution_count": 15,
   "metadata": {
    "collapsed": true
   },
   "outputs": [],
   "source": [
    "def random_scaling(img):\n",
    "    # rows and columns of the image shape; _ would be the pixel color value.\n",
    "    rows,cols,_ = img.shape\n",
    "    image_size = (rows,cols)\n",
    "    # Establish limits for the scaling.\n",
    "    # random int -2 to 2, inclusive...\n",
    "    adj = random.choice([-2,-1,1,2])\n",
    "    #print('adj:',adj,'pixels')\n",
    "    \n",
    "    # The four corners of the image.\n",
    "    starting_corners = np.float32([[0,0],[rows,0],[0,cols],[rows,cols]])\n",
    "    #print(starting_corners)\n",
    "    \n",
    "    # The for corners of the zoomed-in area.\n",
    "    adj_corners = np.float32([[adj,adj],[rows-adj,adj],[adj,cols-adj],[rows-adj,cols-adj]])\n",
    "    #print(adj_corners)\n",
    "    \n",
    "    # The getPerspectiveTransform() calculates a perspective transform from\n",
    "    # four pairs of the corresponding points.\n",
    "    # mapMatrix, M\n",
    "    M = cv2.getPerspectiveTransform(adj_corners,starting_corners)\n",
    "    # warpPerspective applies a perspective tranformation to an image.\n",
    "    # The warpPerspective transforms the source image using the specified matrix.\n",
    "    # warpPerspective takes a 3x3 transformation matrix as input.\n",
    "    # dst: output image that has the size dsize and teh same type as src.\n",
    "    dst = cv2.warpPerspective(img,M,image_size,borderMode=cv2.BORDER_REPLICATE)\n",
    "    # The np.newaxis object can be used in all slicing operations to create an\n",
    "    # axis of length one. newaxis is an alias for 'None', and 'None' can be used\n",
    "    # in place of this with the same result.\n",
    "    dst = dst[:,:,np.newaxis]\n",
    "    \n",
    "    return dst"
   ]
  },
  {
   "cell_type": "markdown",
   "metadata": {},
   "source": [
    "Run and Display Output for `random_scaling()`"
   ]
  },
  {
   "cell_type": "code",
   "execution_count": 16,
   "metadata": {
    "collapsed": false
   },
   "outputs": [
    {
     "name": "stdout",
     "output_type": "stream",
     "text": [
      "Elapsed time: 0.0007281303405761719\n",
      "Original/Scaled shapes: (32, 32, 1) (32, 32, 1)\n",
      "\n",
      "Scale the Image\n"
     ]
    },
    {
     "data": {
      "image/png": "[encoded data removed]",
      "text/plain": [
       "<matplotlib.figure.Figure at 0x139dfa358>"
      ]
     },
     "metadata": {},
     "output_type": "display_data"
    }
   ],
   "source": [
    "index = random.randint(0, len(X_train))\n",
    "test_image = X_train[index]\n",
    "\n",
    "start_time = time.time()\n",
    "scaled_test_image = random_scaling(test_image)\n",
    "elapsed_time = time.time() - start_time\n",
    "total_time = elapsed_time\n",
    "    \n",
    "fig, axs = plt.subplots(1,2, figsize=(10, 3))\n",
    "\n",
    "axs[0].axis('off')\n",
    "axs[0].imshow(test_image.squeeze(), cmap='gray')\n",
    "axs[0].set_title('Original')\n",
    "\n",
    "axs[1].axis('off')\n",
    "axs[1].imshow(scaled_test_image.squeeze(), cmap='gray')\n",
    "axs[1].set_title('Scaled')\n",
    "\n",
    "# print('adj:',adj)\n",
    "print('Elapsed time:', elapsed_time)\n",
    "print('Original/Scaled shapes:', test_image.shape, scaled_test_image.shape)\n",
    "print()\n",
    "print('Scale the Image')"
   ]
  },
  {
   "cell_type": "markdown",
   "metadata": {},
   "source": [
    "`random_translate()`\n",
    "\n",
    "This function translates an image in either the x or y direction or both, but not in neither direction. It translates some combination of left, right, up, down. The edge pixels are replicated so as to not create a discernable border."
   ]
  },
  {
   "cell_type": "code",
   "execution_count": 17,
   "metadata": {
    "collapsed": true
   },
   "outputs": [],
   "source": [
    "def random_translate(img):\n",
    "    rows,cols,_ = img.shape\n",
    "    image_size = (rows,cols)\n",
    "    \n",
    "    dx = random.choice([-2,-1,0,1,2])\n",
    "    dy = random.choice([-2,-1,0,1,2])\n",
    "    while dx == 0 and dy == 0:\n",
    "        dx = random.choice([-2,-1,1,2])\n",
    "\n",
    "    M = np.float32([[1,0,dx],[0,1,dy]])\n",
    "    # warpAffine applies an affine transformation to an image.\n",
    "    # warpAffine takes a 2x3 transformation matrix.\n",
    "    dst = cv2.warpAffine(img,M,image_size,borderMode=cv2.BORDER_REPLICATE)\n",
    "    dst = dst[:,:,np.newaxis]\n",
    "    \n",
    "    return dst"
   ]
  },
  {
   "cell_type": "markdown",
   "metadata": {},
   "source": [
    "Run and Display Output for `random_translate()`"
   ]
  },
  {
   "cell_type": "code",
   "execution_count": 18,
   "metadata": {
    "collapsed": false
   },
   "outputs": [
    {
     "name": "stdout",
     "output_type": "stream",
     "text": [
      "Elapsed time: 0.0005459785461425781\n",
      "Original/Translated shapes: (32, 32, 1) (32, 32, 1)\n",
      "\n",
      "Translate the Image\n"
     ]
    },
    {
     "data": {
      "image/png": "[encoded data removed]",
      "text/plain": [
       "<matplotlib.figure.Figure at 0x139abd0f0>"
      ]
     },
     "metadata": {},
     "output_type": "display_data"
    }
   ],
   "source": [
    "index = random.randint(0, len(X_train))\n",
    "test_image = X_train[index]\n",
    "\n",
    "start_time = time.time()\n",
    "translated_test_image = random_translate(test_image)\n",
    "elapsed_time = time.time() - start_time\n",
    "total_time += elapsed_time\n",
    "\n",
    "# Plot\n",
    "fig, axs = plt.subplots(1,2, figsize=(10, 3))\n",
    "\n",
    "axs[0].axis('off')\n",
    "axs[0].imshow(test_image.squeeze(), cmap='gray')\n",
    "axs[0].set_title('Original')\n",
    "\n",
    "axs[1].axis('off')\n",
    "axs[1].imshow(translated_test_image.squeeze(), cmap='gray')\n",
    "axs[1].set_title('Translated')\n",
    "\n",
    "# print('dx:',dx,'dy:',dy)\n",
    "print('Elapsed time:',elapsed_time)\n",
    "print('Original/Translated shapes:', test_image.shape, translated_test_image.shape)\n",
    "print()\n",
    "print('Translate the Image')"
   ]
  },
  {
   "cell_type": "markdown",
   "metadata": {},
   "source": [
    "`random_warp()`\n",
    "\n",
    "This function warps an image. A warp is translating three points."
   ]
  },
  {
   "cell_type": "code",
   "execution_count": 19,
   "metadata": {
    "collapsed": true
   },
   "outputs": [],
   "source": [
    "def random_warp(img):\n",
    "    rows,cols,_ = img.shape\n",
    "    image_size = (rows,cols)\n",
    "    \n",
    "    # Random values in a given shape.\n",
    "    # Create an array of the given shape and populate it with random samples\n",
    "    # from a uniform distribution over [0, 1).\n",
    "    # random scaling coefficients\n",
    "    npoints = 3\n",
    "    adj = -0.5\n",
    "    adj_factor = 0.08\n",
    "    \n",
    "    # These coefficients determines the degree of warping.\n",
    "    dx = np.random.rand(npoints) + adj\n",
    "    dx *= cols * adj_factor   \n",
    "    dy = np.random.rand(npoints) + adj\n",
    "    dy *= rows * adj_factor\n",
    "\n",
    "    # These corners aren't working well.\n",
    "#     x1 = 0\n",
    "#     y1 = 0\n",
    "#     x2 = 32\n",
    "#     y2 = 32\n",
    "    \n",
    "    # Move the corners in a bit...\n",
    "    x1 = cols/4\n",
    "    y1 = rows/4\n",
    "    x2 = 3*cols/4\n",
    "    y2 = 3*rows/4   \n",
    "\n",
    "    pts1 = np.float32([[y1,x1],\n",
    "                       [y2,x1],\n",
    "                       [y1,x2]])\n",
    "    pts2 = np.float32([[y1+dy[0],x1+dx[0]],\n",
    "                       [y2+dy[1],x1+dx[1]],\n",
    "                       [y1+dy[2],x2+dx[2]]])\n",
    "\n",
    "    M = cv2.getAffineTransform(pts1,pts2)\n",
    "    dst = cv2.warpAffine(img,M,image_size,borderMode=cv2.BORDER_REPLICATE)\n",
    "    dst = dst[:,:,np.newaxis]\n",
    "    \n",
    "    return dst"
   ]
  },
  {
   "cell_type": "markdown",
   "metadata": {},
   "source": [
    "Run and Display Output for `random_warp()`"
   ]
  },
  {
   "cell_type": "code",
   "execution_count": 20,
   "metadata": {
    "collapsed": false
   },
   "outputs": [
    {
     "name": "stdout",
     "output_type": "stream",
     "text": [
      "Elapsed time: 0.00030994415283203125\n",
      "Original/Warped shapes: (32, 32, 1) (32, 32, 1)\n",
      "\n",
      "Warp the Image\n"
     ]
    },
    {
     "data": {
      "image/png": "[encoded data removed]",
      "text/plain": [
       "<matplotlib.figure.Figure at 0x139d53b38>"
      ]
     },
     "metadata": {},
     "output_type": "display_data"
    }
   ],
   "source": [
    "index = random.randint(0, len(X_train))\n",
    "test_image = X_train[index]\n",
    "\n",
    "start_time = time.time()\n",
    "warped_test_image = random_warp(test_image)\n",
    "elapsed_time = time.time() - start_time\n",
    "total_time += elapsed_time\n",
    "\n",
    "# Plot\n",
    "fig, axs = plt.subplots(1,2, figsize=(10, 3))\n",
    "\n",
    "axs[0].axis('off')\n",
    "axs[0].imshow(test_image.squeeze(), cmap='gray')\n",
    "axs[0].set_title('Original')\n",
    "\n",
    "axs[1].axis('off')\n",
    "axs[1].imshow(warped_test_image.squeeze(), cmap='gray')\n",
    "axs[1].set_title('Warped')\n",
    "\n",
    "# print('dx:',dx,'dy:',dy)\n",
    "print('Elapsed time:',elapsed_time)\n",
    "print('Original/Warped shapes:', test_image.shape, warped_test_image.shape)\n",
    "print()\n",
    "print('Warp the Image')"
   ]
  },
  {
   "cell_type": "markdown",
   "metadata": {},
   "source": [
    "`random_brightness()`"
   ]
  },
  {
   "cell_type": "code",
   "execution_count": 21,
   "metadata": {
    "collapsed": true
   },
   "outputs": [],
   "source": [
    "def random_brightness(img):\n",
    "    shifted = img + 1.0   # shift to (0,2) range\n",
    "    img_max_value = max(shifted.flatten())\n",
    "    \n",
    "    max_coef = 2.0/img_max_value\n",
    "    min_coef = max_coef - 0.1\n",
    "    coef = np.random.uniform(min_coef, max_coef)\n",
    "    \n",
    "    dst = shifted * coef - 1.0\n",
    "    \n",
    "#     print('img.shape:',img.shape)\n",
    "#     print('shifted = img + 1.0')\n",
    "#     print('shifted.shape:',shifted.shape)\n",
    "#     print('shifted.flatten().shape:',shifted.flatten().shape)\n",
    "#     print('img[5][5]:',img[5][5])\n",
    "#     print('shifted[5][5]:',shifted[5][5])\n",
    "#     print(img_max_value)\n",
    "    \n",
    "    return dst"
   ]
  },
  {
   "cell_type": "markdown",
   "metadata": {},
   "source": [
    "Run and Display Output for `random_brightness()`"
   ]
  },
  {
   "cell_type": "code",
   "execution_count": 22,
   "metadata": {
    "collapsed": false
   },
   "outputs": [
    {
     "name": "stdout",
     "output_type": "stream",
     "text": [
      "Elapsed time: 0.0003418922424316406\n",
      "Original/Brightness Adjusted shapes: (32, 32, 1) (32, 32, 1)\n",
      "\n",
      "Adjust Image Brightness\n"
     ]
    },
    {
     "data": {
      "image/png": "[encoded data removed]",
      "text/plain": [
       "<matplotlib.figure.Figure at 0x1399698d0>"
      ]
     },
     "metadata": {},
     "output_type": "display_data"
    }
   ],
   "source": [
    "index = random.randint(0, len(X_train))\n",
    "test_image = X_train[index]\n",
    "\n",
    "start_time = time.time()\n",
    "adj_brightness_image = random_brightness(test_image)\n",
    "elapsed_time = time.time() - start_time\n",
    "total_time += elapsed_time\n",
    "\n",
    "fig, axs = plt.subplots(1,2, figsize=(10, 3))\n",
    "\n",
    "axs[0].axis('off')\n",
    "axs[0].imshow(test_image.squeeze(), cmap='gray')\n",
    "axs[0].set_title('Original')\n",
    "\n",
    "axs[1].axis('off')\n",
    "axs[1].imshow(adj_brightness_image.squeeze(), cmap='gray')\n",
    "axs[1].set_title('Brightness Adjusted')\n",
    "\n",
    "print('Elapsed time:',elapsed_time)\n",
    "print('Original/Brightness Adjusted shapes:', test_image.shape, adj_brightness_image.shape)\n",
    "print()\n",
    "print('Adjust Image Brightness')"
   ]
  },
  {
   "cell_type": "markdown",
   "metadata": {},
   "source": [
    "`augment()`"
   ]
  },
  {
   "cell_type": "code",
   "execution_count": 23,
   "metadata": {
    "collapsed": true
   },
   "outputs": [],
   "source": [
    "def augment(img):\n",
    "    ##### SCALING #####\n",
    "    \n",
    "    # rows and columns of the image shape; _ would be the pixel color value.\n",
    "    rows,cols,_ = img.shape\n",
    "    image_size = (rows,cols)\n",
    "    # Establish limits for the scaling.\n",
    "    # random int -2 to 2, inclusive...\n",
    "    adj = random.choice([-2,-1,1,2])\n",
    "    #print('adj:',adj,'pixels')\n",
    "    \n",
    "    # The four corners of the image.\n",
    "    starting_corners = np.float32([[0,0],[rows,0],[0,cols],[rows,cols]])\n",
    "    #print(starting_corners)\n",
    "    \n",
    "    # The for corners of the zoomed-in area.\n",
    "    adj_corners = np.float32([[adj,adj],[rows-adj,adj],[adj,cols-adj],[rows-adj,cols-adj]])\n",
    "    #print(adj_corners)\n",
    "    \n",
    "    # The getPerspectiveTransform() calculates a perspective transform from\n",
    "    # four pairs of the corresponding points.\n",
    "    # mapMatrix, M\n",
    "    M = cv2.getPerspectiveTransform(adj_corners,starting_corners)\n",
    "    # warpPerspective applies a perspective tranformation to an image.\n",
    "    # The warpPerspective transforms the source image using the specified matrix.\n",
    "    # warpPerspective takes a 3x3 transformation matrix as input.\n",
    "    # dst: output image that has the size dsize and teh same type as src.\n",
    "    dst = cv2.warpPerspective(img,M,image_size,borderMode=cv2.BORDER_REPLICATE)\n",
    "    # The np.newaxis object can be used in all slicing operations to create an\n",
    "    # axis of length one. newaxis is an alias for 'None', and 'None' can be used\n",
    "    # in place of this with the same result.\n",
    "    scaled_image = dst[:,:,np.newaxis]\n",
    "    \n",
    "#     print('scaling M:',M)\n",
    "    \n",
    "#     return dst\n",
    "    \n",
    "    ##### TRANSLATE #####\n",
    "    \n",
    "#     rows,cols,_ = img.shape\n",
    "#     image_size = (rows,cols)\n",
    "    \n",
    "    dx = random.choice([-2,-1,0,1,2])\n",
    "    dy = random.choice([-2,-1,0,1,2])\n",
    "    while dx == 0 and dy == 0:\n",
    "        dx = random.choice([-2,-1,1,2])\n",
    "\n",
    "    M = np.float32([[1,0,dx],[0,1,dy]])\n",
    "    # warpAffine applies an affine transformation to an image.\n",
    "    # warpAffine takes a 2x3 transformation matrix.\n",
    "    dst = cv2.warpAffine(scaled_image,M,image_size,borderMode=cv2.BORDER_REPLICATE)\n",
    "    translated_image = dst[:,:,np.newaxis]\n",
    "    \n",
    "#     print('translate M:',M)\n",
    "    \n",
    "#     return dst\n",
    "\n",
    "    ##### WARP #####\n",
    "    \n",
    "#     rows,cols,_ = img.shape\n",
    "#     image_size = (rows,cols)\n",
    "    \n",
    "    # Random values in a given shape.\n",
    "    # Create an array of the given shape and populate it with random samples\n",
    "    # from a uniform distribution over [0, 1).\n",
    "    # random scaling coefficients\n",
    "    npoints = 3\n",
    "    adj = -0.5\n",
    "    adj_factor = 0.08\n",
    "    \n",
    "    # These coefficients determines the degree of warping.\n",
    "    dx = np.random.rand(npoints) + adj\n",
    "    dx *= cols * adj_factor   \n",
    "    dy = np.random.rand(npoints) + adj\n",
    "    dy *= rows * adj_factor\n",
    "\n",
    "    # These corners aren't working well.\n",
    "#     x1 = 0\n",
    "#     y1 = 0\n",
    "#     x2 = 32\n",
    "#     y2 = 32\n",
    "    \n",
    "    # Move the corners in a bit...\n",
    "    x1 = cols/4\n",
    "    y1 = rows/4\n",
    "    x2 = 3*cols/4\n",
    "    y2 = 3*rows/4   \n",
    "\n",
    "    pts1 = np.float32([[y1,x1],\n",
    "                       [y2,x1],\n",
    "                       [y1,x2]])\n",
    "    pts2 = np.float32([[y1+dy[0],x1+dx[0]],\n",
    "                       [y2+dy[1],x1+dx[1]],\n",
    "                       [y1+dy[2],x2+dx[2]]])\n",
    "\n",
    "    M = cv2.getAffineTransform(pts1,pts2)\n",
    "    dst = cv2.warpAffine(translated_image,M,image_size,borderMode=cv2.BORDER_REPLICATE)\n",
    "    warped_image = dst[:,:,np.newaxis]\n",
    "    \n",
    "#     print('warp M:',M)\n",
    "    \n",
    "#     return dst\n",
    "\n",
    "    ##### BRIGHTNESS #####\n",
    "    \n",
    "    shifted = warped_image + 1.0   # shift to (0,2) range\n",
    "    img_max_value = max(shifted.flatten())\n",
    "    \n",
    "    max_coef = 2.0/img_max_value\n",
    "    min_coef = max_coef - 0.1\n",
    "    coef = np.random.uniform(min_coef, max_coef)\n",
    "    \n",
    "    brightness_image = shifted * coef - 1.0\n",
    "    \n",
    "#     print('img.shape:',img.shape)\n",
    "#     print('shifted = img + 1.0')\n",
    "#     print('shifted.shape:',shifted.shape)\n",
    "#     print('shifted.flatten().shape:',shifted.flatten().shape)\n",
    "#     print('img[5][5]:',img[5][5])\n",
    "#     print('shifted[5][5]:',shifted[5][5])\n",
    "#     print(img_max_value)\n",
    "    \n",
    "#     return dst\n",
    "\n",
    "    return brightness_image"
   ]
  },
  {
   "cell_type": "markdown",
   "metadata": {},
   "source": [
    "Run and Display Output of `augment()`"
   ]
  },
  {
   "cell_type": "code",
   "execution_count": 24,
   "metadata": {
    "collapsed": false
   },
   "outputs": [
    {
     "name": "stdout",
     "output_type": "stream",
     "text": [
      "Total elapsed time: 0.0019259452819824219\n",
      "Elapsed time: 0.0006999969482421875\n",
      "Time diff between individual calls and combo call: 0.0012259483337402344\n",
      "\n",
      "Original/Augmented shapes: (32, 32, 1) (32, 32, 1)\n",
      "\n",
      "Augmented Image\n"
     ]
    },
    {
     "data": {
      "image/png": "[encoded data removed]",
      "text/plain": [
       "<matplotlib.figure.Figure at 0x139d95860>"
      ]
     },
     "metadata": {},
     "output_type": "display_data"
    }
   ],
   "source": [
    "index = random.randint(0, len(X_train))\n",
    "test_image = X_train[index]\n",
    "\n",
    "start_time = time.time()\n",
    "augmented_image = augment(test_image)\n",
    "elapsed_time = time.time() - start_time\n",
    "\n",
    "fig, axs = plt.subplots(1,2, figsize=(10, 3))\n",
    "\n",
    "axs[0].axis('off')\n",
    "axs[0].imshow(test_image.squeeze(), cmap='gray')\n",
    "axs[0].set_title('Original')\n",
    "\n",
    "axs[1].axis('off')\n",
    "axs[1].imshow(augmented_image.squeeze(), cmap='gray')\n",
    "axs[1].set_title('Augmented')\n",
    "\n",
    "print('Total elapsed time:',total_time)\n",
    "print('Elapsed time:',elapsed_time)\n",
    "print('Time diff between individual calls and combo call:',total_time-elapsed_time)\n",
    "print()\n",
    "print('Original/Augmented shapes:', test_image.shape, augmented_image.shape)\n",
    "print()\n",
    "print('Augmented Image')"
   ]
  },
  {
   "cell_type": "markdown",
   "metadata": {},
   "source": [
    "Minimum and Maximum Number of Samples of Label Classes"
   ]
  },
  {
   "cell_type": "code",
   "execution_count": 25,
   "metadata": {
    "collapsed": false
   },
   "outputs": [
    {
     "name": "stdout",
     "output_type": "stream",
     "text": [
      "y_train.shape: (34799,)\n",
      "y_train: [41 41 41 ..., 25 25 25]\n",
      "np.bincount(y_train): [ 180 1980 2010 1260 1770 1650  360 1290 1260 1320 1800 1170 1890 1920  690\n",
      "  540  360  990 1080  180  300  270  330  450  240 1350  540  210  480  240\n",
      "  390  690  210  599  360 1080  330  180 1860  270  300  210  210]\n",
      "\n",
      "Minimum samples for any label class: 180\n",
      "Maximum samples for any label class: 2010\n"
     ]
    }
   ],
   "source": [
    "# Count number of occurrences of each value in array of non-negative ints.\n",
    "print('y_train.shape:',y_train.shape)\n",
    "print('y_train:',y_train)\n",
    "print('np.bincount(y_train):',np.bincount(y_train))\n",
    "print()\n",
    "n_max_class_occurence = max(np.bincount(y_train))\n",
    "n_min_class_occurence = min(np.bincount(y_train))\n",
    "print(\"Minimum samples for any label class:\", n_min_class_occurence)\n",
    "print(\"Maximum samples for any label class:\", n_max_class_occurence)"
   ]
  },
  {
   "cell_type": "markdown",
   "metadata": {},
   "source": [
    "<span style=\"color:orange\"><b>Augment the Training Dataset</b></span>"
   ]
  },
  {
   "cell_type": "raw",
   "metadata": {},
   "source": [
    "# SCRATCH WORK\n",
    "print('n_classes:',n_classes)\n",
    "print('y_train.shape:',y_train.shape)\n",
    "print('y_train:',y_train)\n",
    "\n",
    "#class_indices = np.where(y_train == class_n)\n",
    "\n",
    "# for class_n in range(n_classes):\n",
    "#     print('class_n:',class_n)\n",
    "    \n",
    "class_indices = np.where(y_train == 0)\n",
    "n_samples = len(class_indices[0])\n",
    "print('n_samples:',n_samples)\n",
    "print('len(class_indices):',len(class_indices))\n",
    "# print('class_indices:',class_indices)\n",
    "# print('class_indices[0].shape:',class_indices[0].shape)\n",
    "# print('class_indices[0]:',class_indices[0])\n",
    "print('class_indices[0][0]:',class_indices[0][0])\n",
    "print('y_train[0]:',y_train[0])\n",
    "print('y_train[47]:',y_train[47])\n",
    "print(2%3)\n",
    "print(6%5)\n",
    "print(5%5)\n",
    "print(5%6)\n",
    "print(5%7)\n",
    "print()\n",
    "n = 5\n",
    "for i in range(n):\n",
    "    print(i%n)"
   ]
  },
  {
   "cell_type": "code",
   "execution_count": 26,
   "metadata": {
    "collapsed": false
   },
   "outputs": [
    {
     "name": "stdout",
     "output_type": "stream",
     "text": [
      "X, y shapes: (34799, 32, 32, 1) (34799,)\n",
      " 0 : |----|----|----|---\n",
      " 1 : |\n",
      " 2 : \n",
      " 3 : |----|--\n",
      " 4 : |--\n",
      " 5 : |---\n",
      " 6 : |----|----|----|-\n",
      " 7 : |----|--\n",
      " 8 : |----|--\n",
      " 9 : |----|-\n",
      "10 : |--\n",
      "11 : |----|---\n",
      "12 : |-\n",
      "13 : |\n",
      "14 : |----|----|---\n",
      "15 : |----|----|----\n",
      "16 : |----|----|----|-\n",
      "17 : |----|----|\n",
      "18 : |----|----\n",
      "19 : |----|----|----|---\n",
      "20 : |----|----|----|--\n",
      "21 : |----|----|----|--\n",
      "22 : |----|----|----|-\n",
      "23 : |----|----|----|\n",
      "24 : |----|----|----|--\n",
      "25 : |----|-\n",
      "26 : |----|----|----\n",
      "27 : |----|----|----|--\n",
      "28 : |----|----|----|\n",
      "29 : |----|----|----|--\n",
      "30 : |----|----|----|-\n",
      "31 : |----|----|---\n",
      "32 : |----|----|----|--\n",
      "33 : |----|----|----\n",
      "34 : |----|----|----|-\n",
      "35 : |----|----\n",
      "36 : |----|----|----|-\n",
      "37 : |----|----|----|---\n",
      "38 : |-\n",
      "39 : |----|----|----|--\n",
      "40 : |----|----|----|--\n",
      "41 : |----|----|----|--\n",
      "42 : |----|----|----|--\n",
      "elapsed time: 14212.16071486473\n",
      "X, y shapes: (86430, 32, 32, 1) (86430,)\n"
     ]
    }
   ],
   "source": [
    "# print('X, y shapes:', X_train_normalized.shape, y_train.shape)\n",
    "print('X, y shapes:', X_train.shape, y_train.shape)\n",
    "\n",
    "req_min_n_samples_per_class = n_max_class_occurence\n",
    "\n",
    "# input_indices = []\n",
    "# output_indices = []\n",
    "\n",
    "smallest_double_digit_int = 10\n",
    "\n",
    "start_time = time.time()\n",
    "for class_n in range(n_classes):\n",
    "    # Print progress...\n",
    "    if class_n < smallest_double_digit_int:\n",
    "        # end doesn't really equate to a newline.\n",
    "        # end=' ' actually means that you want a space after the end of the statement \n",
    "        # instead of a new line character, so you can continue on the same line\n",
    "        # with \"Whatever\"\n",
    "        print('', class_n, ': ', end='')\n",
    "    else:\n",
    "        print(class_n, ': ', end='')\n",
    "    \n",
    "    # y_train is a large vector where each value is a label class integer.\n",
    "    # Collect all the indices of y_train where the value corresponds to class_n.\n",
    "    # np.where; If only condition is given, return condition.nonzero().\n",
    "    class_indices = np.where(y_train == class_n)\n",
    "    # The number of indices of y_train where the value corresponds to class_n.\n",
    "    # This is the number of training instances of this label class in the training dataset.\n",
    "    n_samples = len(class_indices[0])\n",
    "    \n",
    "    # If the number of training samples of this class is less than that required...\n",
    "    if n_samples < req_min_n_samples_per_class:\n",
    "        # Make up the difference by augmenting the dataset.\n",
    "        for i in range(req_min_n_samples_per_class - n_samples):\n",
    "            \n",
    "#             input_indices.append(class_indices[0][i%n_samples])\n",
    "#             output_indices.append(X_train_normalized.shape[0])\n",
    "            \n",
    "            new_img = X_train[class_indices[0][i%n_samples]]\n",
    "#             new_img = X_train[class_indices[0][i]]\n",
    "#             new_img = random_translate(random_scaling(random_warp(random_brightness(new_img))))\n",
    "            new_img = augment(new_img) \n",
    "            # Add the new image to the X dataset.\n",
    "            X_train = np.concatenate((X_train, [new_img]), axis=0)\n",
    "            # Update the y dataset with the class of the added image.\n",
    "            y_train = np.concatenate((y_train, [class_n]), axis=0)\n",
    "            \n",
    "            # Print progress...\n",
    "            if i % 500 == 0:\n",
    "                print('|', end='')\n",
    "            elif i % 100 == 0:\n",
    "                print('-',end='')\n",
    "    print('')\n",
    "         \n",
    "print('elapsed time:', time.time() - start_time)\n",
    "# print('X, y shapes:', X_train_normalized.shape, y_train.shape)\n",
    "print('X, y shapes:', X_train.shape, y_train.shape)"
   ]
  },
  {
   "cell_type": "markdown",
   "metadata": {},
   "source": [
    "## Model Architecture\n",
    "Define your architecture here.\n",
    "Feel free to use as many code cells as needed."
   ]
  },
  {
   "cell_type": "code",
   "execution_count": 68,
   "metadata": {
    "collapsed": false
   },
   "outputs": [
    {
     "name": "stdout",
     "output_type": "stream",
     "text": [
      "...\n"
     ]
    }
   ],
   "source": [
    "print('...')\n",
    "tf.reset_default_graph()"
   ]
  },
  {
   "cell_type": "code",
   "execution_count": 69,
   "metadata": {
    "collapsed": false
   },
   "outputs": [
    {
     "name": "stdout",
     "output_type": "stream",
     "text": [
      "...\n"
     ]
    }
   ],
   "source": [
    "print('...')\n",
    "### Define your architecture here.\n",
    "### Feel free to use as many code cells as needed.\n",
    "\n",
    "# Number of times to run data through the network.\n",
    "# In general, the more epochs, the better the model will train.\n",
    "# But, also, the longer training will take.\n",
    "EPOCHS = 10#100#8#10 \n",
    "# Number of training images to run through the network at a time.\n",
    "# The larger the batch size, the faster the model will train.\n",
    "# But, the processor may have a memory limit on how large a batch it can run.\n",
    "BATCH_SIZE = 256#128"
   ]
  },
  {
   "cell_type": "markdown",
   "metadata": {},
   "source": [
    "### Train, Validate and Test the Model\n",
    "\n",
    "A validation set can be used to assess how well the model is performing. A low accuracy on the training and validation sets imply underfitting. A high accuracy on the training set but low accuracy on the validation set implies overfitting.\n",
    "\n",
    "Calculate and report the accuracy on the training and validation set.\n",
    "Once a final model architecture is selected,\n",
    "the accuracy on the test set should be calculated and reported as well.\n",
    "Feel free to use as many code cells as needed.\n",
    "### LeNet architecture\n",
    "`le_net()`\n",
    "\n",
    "<span style=\"color:green\"><b>LeNet Architecture</b></span>"
   ]
  },
  {
   "cell_type": "code",
   "execution_count": 70,
   "metadata": {
    "collapsed": false
   },
   "outputs": [
    {
     "name": "stdout",
     "output_type": "stream",
     "text": [
      "...\n"
     ]
    }
   ],
   "source": [
    "print('...')\n",
    "# For switching between RGB and grayscale.\n",
    "color_shape = 1 # 3 for rgb; 1 for gray\n",
    "# X_data = X_train\n",
    "# X_eval_data = X_valid"
   ]
  },
  {
   "cell_type": "code",
   "execution_count": 71,
   "metadata": {
    "collapsed": false
   },
   "outputs": [
    {
     "name": "stdout",
     "output_type": "stream",
     "text": [
      "...\n"
     ]
    }
   ],
   "source": [
    "print('...')\n",
    "def le_net(x, keep_prob):\n",
    "    mu = 0\n",
    "    sigma = 0.1\n",
    "    # Layer1 32*32*1 --> 28*28*16 \n",
    "    conv1_W = tf.Variable(tf.truncated_normal(shape=(5,5,1,16), mean = mu, stddev = sigma), name = 'conv1_W')\n",
    "    conv1_b = tf.Variable(tf.constant(0.1, shape = [16]), name = 'conv1_b')\n",
    "    conv1 = tf.add(tf.nn.conv2d(x,conv1_W, strides = [1,1,1,1], padding = 'VALID') , conv1_b)\n",
    "    #Layer1 activation \n",
    "    conv1 = tf.nn.relu(conv1)\n",
    "    #Layer1 pooling 28*28*16 --> 14*14*16\n",
    "    conv1 = tf.nn.max_pool(conv1, ksize = [1,2,2,1], strides = [1,2,2,1], padding = 'VALID')\n",
    "    \n",
    "    # Layer2  14*14*16 --> 10*10*32\n",
    "    conv2_W = tf.Variable(tf.truncated_normal(shape=(5,5,16,32), mean = mu , stddev = sigma), name = 'conv2_W')\n",
    "    conv2_b = tf.Variable(tf.constant(0.1, shape = [32]), name = 'conv2_b')\n",
    "    conv2 = tf.add(tf.nn.conv2d(conv1, conv2_W, strides = [1,1,1,1], padding = 'VALID') , conv2_b)\n",
    "    #Layer2 activation\n",
    "    conv2 = tf.nn.relu(conv2)\n",
    "    #Later2 pooling 10*10*32 --> 5*5*32 \n",
    "    conv2 = tf.nn.max_pool(conv2, ksize = [1,2,2,1], strides = [1,2,2,1], padding = 'VALID')\n",
    "    # Flatten 5*5*32 --> 800\n",
    "    fc0 = flatten(conv2)\n",
    "    \n",
    "    # Layer3  800--> 516\n",
    "    fc1_W = tf.Variable(tf.truncated_normal(shape = (800,516), mean = mu , stddev = sigma), name = 'fc1_W')\n",
    "    fc1_b = tf.Variable(tf.constant(0.1, shape = [516]), name = 'fc1_b')\n",
    "    fc1 = tf.add(tf.matmul(fc0, fc1_W) , fc1_b)\n",
    "    #Layer3 activation\n",
    "    fc1 = tf.nn.relu(fc1)\n",
    "    # Dropout \n",
    "    fc1 = tf.nn.dropout(fc1,keep_prob)\n",
    "    \n",
    "    # Layer4 516 --> 360\n",
    "    fc2_W = tf.Variable(tf.truncated_normal(shape = (516,360), mean = mu , stddev = sigma), name = 'fc2_W')\n",
    "    fc2_b = tf.Variable(tf.constant(0.1, shape = [360]), name = 'fc2_b')\n",
    "    fc2 = tf.add(tf.matmul(fc1,fc2_W) , fc2_b)\n",
    "    #Layer4 activation\n",
    "    fc2 = tf.nn.relu(fc2)\n",
    "    #Dropout \n",
    "    fc2 = tf.nn.dropout(fc2,keep_prob)\n",
    "    \n",
    "    #Layer5 360 --> 43\n",
    "    fc3_W = tf.Variable(tf.truncated_normal(shape = (360,43), mean = mu, stddev = sigma), name = 'fc3_W')\n",
    "    fc3_b = tf.Variable(tf.constant(0.1, shape =[43]), name = 'fc3_b')\n",
    "    logits = tf.add(tf.matmul(fc2,fc3_W) , fc3_b)\n",
    "    \n",
    "    return logits"
   ]
  },
  {
   "cell_type": "markdown",
   "metadata": {},
   "source": [
    "Earlier"
   ]
  },
  {
   "cell_type": "raw",
   "metadata": {
    "collapsed": true
   },
   "source": [
    "def le_net(x):    \n",
    "    # Arguments used for tf.truncated_normal, randomly defines variables for the weights and biases for each layer\n",
    "    # The mu and sigma hyperparamters relate to how the weights are initialized.\n",
    "    mu = 0\n",
    "    sigma = 0.1\n",
    "    \n",
    "    ### INPUT ###\n",
    "    \n",
    "    ### CONVOLUTION ###\n",
    "    # Layer 1: Convolutional. Input = 32x32x1. Output = 28x28x6.\n",
    "    # The first convolutional layer.\n",
    "    # 5x5 filter with an input depth of 1 and an output depth of 6.\n",
    "    conv1_W = tf.Variable(tf.truncated_normal(shape=(5, 5, color_shape, 6), mean = mu, stddev = sigma))\n",
    "    # Initialize the bias.\n",
    "    conv1_b = tf.Variable(tf.zeros(6))\n",
    "    # Convolve the filter over the images, adding the bias at the end.\n",
    "    conv1   = tf.nn.conv2d(x, conv1_W, strides=[1, 1, 1, 1], padding='VALID') + conv1_b\n",
    "    # The formula for convolutions tells us that the output height equals the input minus\n",
    "    # the filter height plus one, all divided by the vertical stride.\n",
    "    # In this case, that means: (32-5+1)/1 = 28\n",
    "    # The formula works the same way for the output width, which also equals 28.\n",
    "    # The convolutional layer output is 28x28x6.\n",
    "\n",
    "    ### ACTIVATION ###\n",
    "    # Activation.\n",
    "    # Activate the output of the convolutional layer with a ReLU activation function.\n",
    "    conv1 = tf.nn.relu(conv1)\n",
    "\n",
    "    ### POOLING ###\n",
    "    # Pooling. Input = 28x28x6. Output = 14x14x6.\n",
    "    # Pool the output using a 2x2 kernel, with a \n",
    "    # 2x2 stride, which gives a pooling output of 14x14x6.\n",
    "    conv1 = tf.nn.max_pool(conv1, ksize=[1, 2, 2, 1], strides=[1, 2, 2, 1], padding='VALID')\n",
    "\n",
    "    ### CONVOLUTION ####\n",
    "    # Layer 2: Convolutional. Output = 10x10x16.\n",
    "    conv2_W = tf.Variable(tf.truncated_normal(shape=(5, 5, 6, 16), mean = mu, stddev = sigma))\n",
    "    conv2_b = tf.Variable(tf.zeros(16))\n",
    "    conv2   = tf.nn.conv2d(conv1, conv2_W, strides=[1, 1, 1, 1], padding='VALID') + conv2_b\n",
    "    \n",
    "    ### ACTIVATION ###\n",
    "    # Activation.\n",
    "    conv2 = tf.nn.relu(conv2)\n",
    "\n",
    "    ### POOLING ###\n",
    "    # Pooling. Input = 10x10x16. Output = 5x5x16.\n",
    "    conv2 = tf.nn.max_pool(conv2, ksize=[1, 2, 2, 1], strides=[1, 2, 2, 1], padding='VALID')\n",
    "\n",
    "    ### FLATTEN ###\n",
    "    # Flatten. Input = 5x5x16. Output = 400.\n",
    "    # Flatten this output into a vector.\n",
    "    # The length of the vector is 5x5x16 which equals 400\n",
    "    fc0   = flatten(conv2)\n",
    "    # Pass this vector into a fully connected layer with a width of 120.\n",
    "    \n",
    "    ### FULLY CONNECTED ###\n",
    "    # Layer 3: Fully Connected. Input = 400. Output = 120.\n",
    "    fc1_W = tf.Variable(tf.truncated_normal(shape=(400, 120), mean = mu, stddev = sigma))\n",
    "    fc1_b = tf.Variable(tf.zeros(120))\n",
    "    fc1   = tf.matmul(fc0, fc1_W) + fc1_b\n",
    "    \n",
    "    ### ACTIVATION ###\n",
    "    # Activation.\n",
    "    # Apply a ReLU activation to the output of the fully connected layer.\n",
    "    fc1    = tf.nn.relu(fc1)\n",
    "\n",
    "    ### FULLY CONNECTED ###\n",
    "    # Layer 4: Fully Connected. Input = 120. Output = 84.\n",
    "    fc2_W  = tf.Variable(tf.truncated_normal(shape=(120, 84), mean = mu, stddev = sigma))\n",
    "    fc2_b  = tf.Variable(tf.zeros(84))\n",
    "    fc2    = tf.matmul(fc1, fc2_W) + fc2_b\n",
    "    \n",
    "    ### ACTIVATION ###\n",
    "    # Repeat the pattern again, this time with a layer width of 84.\n",
    "    # Activation.\n",
    "    fc2    = tf.nn.relu(fc2)\n",
    "\n",
    "    ### FULLY CONNECTED ###\n",
    "    # Attach a fully connected output layer with a\n",
    "    # width equal to the number of classes in the label set.\n",
    "    # The width of the output class is 43.\n",
    "    # These outputs are also known as the logits,\n",
    "    # which is what is returned from the LeNet function.\n",
    "    # Layer 5: Fully Connected. Input = 84. Output = 43.\n",
    "    fc3_W  = tf.Variable(tf.truncated_normal(shape=(84, 43), mean = mu, stddev = sigma))\n",
    "    fc3_b  = tf.Variable(tf.zeros(43))\n",
    "    logits = tf.matmul(fc2, fc3_W) + fc3_b\n",
    "    \n",
    "    return logits"
   ]
  },
  {
   "cell_type": "markdown",
   "metadata": {},
   "source": [
    "## Features and Labels"
   ]
  },
  {
   "cell_type": "code",
   "execution_count": 72,
   "metadata": {
    "collapsed": false
   },
   "outputs": [
    {
     "name": "stdout",
     "output_type": "stream",
     "text": [
      "...\n"
     ]
    }
   ],
   "source": [
    "print('...')\n",
    "# Setup the TensorFlow variables.\n",
    "# x is a placeholder that will store the input batches.\n",
    "# Initialize the batch size to None, to allow\n",
    "# the placeholder to later accept a batch of any size.\n",
    "# Set the image dimensions to 32x32x3.\n",
    "x = tf.placeholder(tf.float32, (None, 32, 32, color_shape))\n",
    "# y stores our labels\n",
    "# In this case, the labels come through as sparse variables,\n",
    "# which just means that they're integers; they aren't one-hot encoded yet.\n",
    "y = tf.placeholder(tf.int32, (None))\n",
    "# For dropout\n",
    "keep_prob = tf.placeholder(tf.float32)\n",
    "# One-hot encode the labels.\n",
    "one_hot_y = tf.one_hot(y, 43)"
   ]
  },
  {
   "cell_type": "markdown",
   "metadata": {},
   "source": [
    "## Training Pipeline"
   ]
  },
  {
   "cell_type": "code",
   "execution_count": 73,
   "metadata": {
    "collapsed": false
   },
   "outputs": [
    {
     "name": "stdout",
     "output_type": "stream",
     "text": [
      "...\n"
     ]
    }
   ],
   "source": [
    "print('...')\n",
    "# The learning rate hyperparameter tells TensorFlow\n",
    "# how quickly to update the network's weights.\n",
    "rate = 0.001\n",
    "# Pass the input data to the LeNet function to calculate the logits.\n",
    "# logits = le_net(x)\n",
    "logits = le_net(x,keep_prob)\n",
    "# Compare the logits to the ground truth labels and calculate the cross-entropy.\n",
    "# Cross-entropy is a measure of how different the logits are from the ground truth\n",
    "# training labels.\n",
    "cross_entropy = tf.nn.softmax_cross_entropy_with_logits(logits, one_hot_y)\n",
    "# Average the cross-entropy from all the training images.\n",
    "loss_operation = tf.reduce_mean(cross_entropy)\n",
    "# Use the Adam algorithm to minimize the loss function,\n",
    "# similarly to what stochastic gradient descent does.\n",
    "# The Adam algorithm is a little more sophisticated than stochastic gradient descent\n",
    "# so it's a good default choice for an optimizer.\n",
    "# Note the learning rate hyperparameter that was set earlier.\n",
    "optimizer = tf.train.AdamOptimizer(learning_rate = rate)\n",
    "# Run the mimimize function on the optimizer, which uses back propagation\n",
    "# to update the network and minimize the training loss.\n",
    "training_operation = optimizer.minimize(loss_operation)"
   ]
  },
  {
   "cell_type": "markdown",
   "metadata": {},
   "source": [
    "## Model Evaluation\n",
    "\n",
    "This pipeline evaluates how good the model is."
   ]
  },
  {
   "cell_type": "code",
   "execution_count": 74,
   "metadata": {
    "collapsed": false
   },
   "outputs": [
    {
     "name": "stdout",
     "output_type": "stream",
     "text": [
      "...\n"
     ]
    }
   ],
   "source": [
    "print('...')\n",
    "# Compare the logit prediction to the one-hot encoded ground truth label\n",
    "# to measure whether a given prediction is correct.\n",
    "correct_prediction = tf.equal(tf.argmax(logits, 1), tf.argmax(one_hot_y, 1))\n",
    "# Calculate the model's overall accuracy by averaging the individual prediction accuracies.\n",
    "accuracy_operation = tf.reduce_mean(tf.cast(correct_prediction, tf.float32))\n",
    "\n",
    "saver = tf.train.Saver()"
   ]
  },
  {
   "cell_type": "markdown",
   "metadata": {},
   "source": [
    "### `evaluate()`\n",
    "This function averages the accuracy of each batch to calculate the total accuracy of the model."
   ]
  },
  {
   "cell_type": "code",
   "execution_count": 75,
   "metadata": {
    "collapsed": false
   },
   "outputs": [
    {
     "name": "stdout",
     "output_type": "stream",
     "text": [
      "...\n"
     ]
    }
   ],
   "source": [
    "print('...')\n",
    "def evaluate(X_train, y_data,keep_prob):\n",
    "    # Take a dataset as input.\n",
    "    # Set some initialization variables.\n",
    "    num_examples = len(X_train)\n",
    "    total_accuracy = 0\n",
    "    # Batch the dataset and run it through the evaluation pipeline.\n",
    "    sess = tf.get_default_session()\n",
    "    for offset in range(0, num_examples, BATCH_SIZE):\n",
    "        batch_x, batch_y = X_train[offset:offset+BATCH_SIZE], y_data[offset:offset+BATCH_SIZE]\n",
    "        accuracy = sess.run(accuracy_operation, feed_dict={x: batch_x, y: batch_y, keep_prob:1.0})\n",
    "        total_accuracy += (accuracy * len(batch_x))\n",
    "    return total_accuracy / num_examples"
   ]
  },
  {
   "cell_type": "markdown",
   "metadata": {},
   "source": [
    "### Train, Validate and Test the Model\n",
    "\n",
    "A validation set can be used to assess how well the model is performing. A low accuracy on the training and validation sets imply underfitting. A high accuracy on the training set but low accuracy on the validation set implies overfitting.\n",
    "\n",
    "Calculate and report the accuracy on the training and validation set.\n",
    "Once a final model architecture is selected,\n",
    "the accuracy on the test set should be calculated and reported as well.\n",
    "Feel free to use as many code cells as needed.\n",
    "\n",
    "<span style=\"color:green\"><b>Train the Model</b></span>"
   ]
  },
  {
   "cell_type": "code",
   "execution_count": 76,
   "metadata": {
    "collapsed": false
   },
   "outputs": [
    {
     "name": "stdout",
     "output_type": "stream",
     "text": [
      "...\n",
      "Training...\n",
      "\n",
      "EPOCH 1 ...\n",
      "Validation Accuracy = 0.665\n",
      "\n",
      "EPOCH 2 ...\n",
      "Validation Accuracy = 0.838\n",
      "\n",
      "EPOCH 3 ...\n",
      "Validation Accuracy = 0.901\n",
      "\n",
      "EPOCH 4 ...\n",
      "Validation Accuracy = 0.923\n",
      "\n",
      "EPOCH 5 ...\n",
      "Validation Accuracy = 0.941\n",
      "\n",
      "EPOCH 6 ...\n",
      "Validation Accuracy = 0.944\n",
      "\n",
      "EPOCH 7 ...\n",
      "Validation Accuracy = 0.951\n",
      "\n",
      "EPOCH 8 ...\n",
      "Validation Accuracy = 0.957\n",
      "\n",
      "EPOCH 9 ...\n",
      "Validation Accuracy = 0.965\n",
      "\n",
      "EPOCH 10 ...\n",
      "Validation Accuracy = 0.973\n",
      "\n",
      "Model saved\n",
      "Execution time: 570.2171928882599\n"
     ]
    }
   ],
   "source": [
    "print('...')\n",
    "start_time = time.time()\n",
    "with tf.Session() as sess:\n",
    "    # Create the TensorFlow session and initialize the variables.\n",
    "    sess.run(tf.global_variables_initializer())\n",
    "    num_examples = len(X_train)\n",
    "    \n",
    "    print(\"Training...\")\n",
    "    print()\n",
    "    for i in range(EPOCHS):\n",
    "        # At the beginning of each epoch, shuffle the training data to ensure\n",
    "        # that the training isn't biased by the order of the images.\n",
    "        X_train, y_train = shuffle(X_train, y_train)\n",
    "        # Break the training data into batches and train the model on each batch.\n",
    "        for offset in range(0, num_examples, BATCH_SIZE):\n",
    "            end = offset + BATCH_SIZE\n",
    "            batch_x, batch_y = X_train[offset:end], y_train[offset:end]\n",
    "            sess.run(training_operation, feed_dict={x: batch_x, y: batch_y, keep_prob : 0.25})\n",
    "       \n",
    "        # At the end of each epoch, evaluate the model on the validation data.\n",
    "        validation_accuracy = evaluate(X_valid, y_valid, keep_prob)\n",
    "        print(\"EPOCH {} ...\".format(i+1))\n",
    "        print(\"Validation Accuracy = {:.3f}\".format(validation_accuracy))\n",
    "        print()\n",
    "        \n",
    "    # Once the model is completely trained, save it.\n",
    "    # This way, we can load it up later and modify it or\n",
    "    # evaluate the model on the test dataset.\n",
    "    saver.save(sess, './lenet')\n",
    "    print(\"Model saved\")\n",
    "    \n",
    "print('Execution time:', time.time() - start_time)"
   ]
  },
  {
   "cell_type": "markdown",
   "metadata": {},
   "source": [
    "## Log Results History for Experiments"
   ]
  },
  {
   "cell_type": "raw",
   "metadata": {},
   "source": [
    "### Results Log\n",
    "Validaion Accuracy: 0.860\n",
    "Standard LeNet, epoch:10, batch size:128, mu:0, sigma:0.1, learning rate:0.001"
   ]
  },
  {
   "cell_type": "markdown",
   "metadata": {},
   "source": [
    "## Calculate and Report the Accuracy on the Training Dataset\n",
    "\n",
    "<span style=\"color:green\"><b>Results on the Training Dataset</b></span>"
   ]
  },
  {
   "cell_type": "code",
   "execution_count": 101,
   "metadata": {
    "collapsed": false
   },
   "outputs": [
    {
     "name": "stdout",
     "output_type": "stream",
     "text": [
      "...\n",
      "Training Set Accuracy = 0.990\n"
     ]
    }
   ],
   "source": [
    "print('...')\n",
    "with tf.Session() as sess:\n",
    "    sess.run(tf.global_variables_initializer())\n",
    "    saver = tf.train.import_meta_graph('./lenet.meta')\n",
    "    saver.restore(sess, \"./lenet\")\n",
    "    train_accuracy = evaluate(X_train, y_train, keep_prob)\n",
    "    print(\"Training Set Accuracy = {:.3f}\".format(train_accuracy))"
   ]
  },
  {
   "cell_type": "markdown",
   "metadata": {},
   "source": [
    "## Calculate and Report the Accuracy on the Test Dataset\n",
    "\n",
    "<span style=\"color:green\"><b>Results on the Test Dataset</b></span>"
   ]
  },
  {
   "cell_type": "code",
   "execution_count": 102,
   "metadata": {
    "collapsed": false
   },
   "outputs": [
    {
     "name": "stdout",
     "output_type": "stream",
     "text": [
      "...\n",
      "Test Set Accuracy = 0.949\n"
     ]
    }
   ],
   "source": [
    "print('...')\n",
    "with tf.Session() as sess:\n",
    "    sess.run(tf.global_variables_initializer())\n",
    "    saver = tf.train.import_meta_graph('./lenet.meta')\n",
    "    saver.restore(sess, \"./lenet\")\n",
    "    test_accuracy = evaluate(X_test, y_test, keep_prob)\n",
    "    print(\"Test Set Accuracy = {:.3f}\".format(test_accuracy))"
   ]
  },
  {
   "cell_type": "markdown",
   "metadata": {},
   "source": [
    "## Calculate and Report the Accuracy on the Validation Dataset\n",
    "\n",
    "<span style=\"color:green\"><b>Results on the Validation Dataset</b></span>"
   ]
  },
  {
   "cell_type": "code",
   "execution_count": 103,
   "metadata": {
    "collapsed": false
   },
   "outputs": [
    {
     "name": "stdout",
     "output_type": "stream",
     "text": [
      "...\n",
      "Validation Set Accuracy = 0.973\n"
     ]
    }
   ],
   "source": [
    "print('...')\n",
    "with tf.Session() as sess:\n",
    "    sess.run(tf.global_variables_initializer())\n",
    "    saver = tf.train.import_meta_graph('./lenet.meta')\n",
    "    saver.restore(sess, \"./lenet\")\n",
    "    valid_accuracy = evaluate(X_valid, y_valid, keep_prob)\n",
    "    print(\"Validation Set Accuracy = {:.3f}\".format(valid_accuracy))"
   ]
  },
  {
   "cell_type": "markdown",
   "metadata": {},
   "source": [
    "---\n",
    "\n",
    "# Step 3: Test a Model on New Images\n",
    "\n",
    "To give yourself more insight into how your model is working, download at least five pictures of German traffic signs from the web and use your model to predict the traffic sign type.\n",
    "\n",
    "You may find `signnames.csv` useful as it contains mappings from the class id (integer) to the actual sign name.\n",
    "## Load and Output the Images\n",
    "### For New Images...\n",
    "### Display New Images"
   ]
  },
  {
   "cell_type": "code",
   "execution_count": 81,
   "metadata": {
    "collapsed": false,
    "scrolled": true
   },
   "outputs": [
    {
     "name": "stdout",
     "output_type": "stream",
     "text": [
      "(5, 32, 32, 3)\n",
      "Note: classes 2 and 13 are among the most represented classed in the training data.\n"
     ]
    },
    {
     "data": {
      "image/png": "[encoded data removed]",
      "text/plain": [
       "<matplotlib.figure.Figure at 0x13b4ce160>"
      ]
     },
     "metadata": {},
     "output_type": "display_data"
    }
   ],
   "source": [
    "### Load the images and plot them here.\n",
    "### Feel free to use as many code cells as needed.\n",
    "\n",
    "#reading in an image\n",
    "\n",
    "# n_rows = 1\n",
    "# n_columns = 10\n",
    "# n_images = n_rows * n_columns\n",
    "# fig_width = 18\n",
    "# fig_height = 2\n",
    "# w_space = .2\n",
    "# h_space = .5\n",
    "\n",
    "# fig, ax = plt.subplots(n_rows, n_columns, figsize=(fig_width, fig_height))\n",
    "# fig.subplots_adjust(wspace=w_space, hspace = h_space)\n",
    "# ax = ax.ravel()\n",
    "# my_image = []\n",
    "# for i, img in enumerate(glob.glob('./SupplementalGermanTrafficSigns/SupplementalGermanTrafficSigns/*.jpg')):\n",
    "#     image = cv2.imread(img)\n",
    "#     ax[i].axis('off')\n",
    "#     ax[i].set_title(y_train[index])\n",
    "#     ax[i].imshow(image)\n",
    "    \n",
    " \n",
    "n_rows = 1\n",
    "n_columns = 5\n",
    "fig_width = 18\n",
    "fig_height = 2\n",
    "w_space = .2\n",
    "h_space = .5\n",
    "\n",
    "fig, ax = plt.subplots(n_rows,n_columns, figsize=(fig_width, fig_height))\n",
    "fig.subplots_adjust(hspace=h_space, wspace=w_space)\n",
    "ax = ax.ravel()\n",
    "\n",
    "X_new = []\n",
    "#y_new = [2, 11, 12, 13, 17, 22, 23, 25, 38, 40]\n",
    "y_new = [2, 11, 12, 13, 17]\n",
    "\n",
    "for i, img in enumerate(glob.glob('./SupplementalGermanTrafficSigns/SupplementalGermanTrafficSigns/*.jpg')):\n",
    "    image = cv2.imread(img)\n",
    "    ax[i].axis('off')\n",
    "    ax[i].set_title(y_new[i])\n",
    "    ax[i].imshow(cv2.cvtColor(image, cv2.COLOR_BGR2RGB))\n",
    "#     ax[i].imshow(image)\n",
    "    X_new.append(image)\n",
    "\n",
    "X_new = np.asarray(X_new)\n",
    "\n",
    "print(X_new.shape)\n",
    "print(\"Note: classes 2 and 13 are among the most represented classed in the training data.\")"
   ]
  },
  {
   "cell_type": "markdown",
   "metadata": {},
   "source": [
    "Process New Images"
   ]
  },
  {
   "cell_type": "code",
   "execution_count": 82,
   "metadata": {
    "collapsed": false
   },
   "outputs": [
    {
     "name": "stdout",
     "output_type": "stream",
     "text": [
      "125.922981771\n",
      "-0.0162267049154\n",
      "X_new.shape: (5, 32, 32, 1)\n",
      "y_new: [2, 11, 12, 13, 17]\n"
     ]
    }
   ],
   "source": [
    "X_new_rgb = X_new\n",
    "X_new_gray = np.sum(X_new/3, axis=3, keepdims=True)\n",
    "print(np.mean(X_new_gray))\n",
    "X_new_normalized = (X_new_gray - 128)/128\n",
    "\n",
    "print(np.mean(X_new_normalized))\n",
    "\n",
    "X_new = X_new_normalized\n",
    "print('X_new.shape:',X_new.shape)\n",
    "print('y_new:',y_new)"
   ]
  },
  {
   "cell_type": "markdown",
   "metadata": {},
   "source": [
    "Display New Images (Gray)"
   ]
  },
  {
   "cell_type": "code",
   "execution_count": 83,
   "metadata": {
    "collapsed": false
   },
   "outputs": [
    {
     "name": "stdout",
     "output_type": "stream",
     "text": [
      "(5, 32, 32, 1)\n",
      "Note: classes 2 and 13 are among the most represented classed in the training data.\n"
     ]
    },
    {
     "data": {
      "image/png": "[encoded data removed]",
      "text/plain": [
       "<matplotlib.figure.Figure at 0x13c391a20>"
      ]
     },
     "metadata": {},
     "output_type": "display_data"
    }
   ],
   "source": [
    "n_rows = 1\n",
    "n_columns = 5\n",
    "fig_width = 18\n",
    "fig_height = 2\n",
    "w_space = .2\n",
    "h_space = .5\n",
    "\n",
    "fig, ax = plt.subplots(n_rows,n_columns, figsize=(fig_width, fig_height))\n",
    "fig.subplots_adjust(hspace=h_space, wspace=w_space)\n",
    "ax = ax.ravel()\n",
    "\n",
    "# y_new = [2, 11, 12, 13, 17]\n",
    "\n",
    "for i, img in enumerate(X_new):\n",
    "    ax[i].axis('off')\n",
    "    ax[i].set_title(y_new[i])\n",
    "    ax[i].imshow(img.squeeze(), cmap='gray')\n",
    "\n",
    "print(X_new.shape)\n",
    "print(\"Note: classes 2 and 13 are among the most represented classed in the training data.\")"
   ]
  },
  {
   "cell_type": "markdown",
   "metadata": {},
   "source": [
    "### Predict the Sign Type for Each Image"
   ]
  },
  {
   "cell_type": "markdown",
   "metadata": {},
   "source": [
    "### Analyze Performance\n",
    "#### For the new images..."
   ]
  },
  {
   "cell_type": "code",
   "execution_count": 105,
   "metadata": {
    "collapsed": false
   },
   "outputs": [
    {
     "name": "stdout",
     "output_type": "stream",
     "text": [
      "Supplemental Set Accuracy = 0.400\n"
     ]
    }
   ],
   "source": [
    "### Run the predictions here and use the model to output the prediction for each image.\n",
    "### Make sure to pre-process the images with the same pre-processing pipeline used earlier.\n",
    "### Feel free to use as many code cells as needed.\n",
    "\n",
    "#print(supplemental_labels)\n",
    "\n",
    "with tf.Session() as sess:\n",
    "    sess.run(tf.global_variables_initializer())\n",
    "    saver = tf.train.import_meta_graph('./lenet.meta')\n",
    "    saver.restore(sess, \"./lenet\")\n",
    "    supplemental_set_accuracy = evaluate(X_new, y_new, keep_prob)\n",
    "    print(\"Supplemental Set Accuracy = {:.3f}\".format(supplemental_set_accuracy))"
   ]
  },
  {
   "cell_type": "markdown",
   "metadata": {},
   "source": [
    "### Output Top 5 Softmax Probabilities For Each Image Found on the Web"
   ]
  },
  {
   "cell_type": "markdown",
   "metadata": {},
   "source": [
    "For each of the new images, print out the model's softmax probabilities to show the **certainty** of the model's predictions (limit the output to the top 5 probabilities for each image). [`tf.nn.top_k`](https://www.tensorflow.org/versions/r0.12/api_docs/python/nn.html#top_k) could prove helpful here. \n",
    "\n",
    "The example below demonstrates how tf.nn.top_k can be used to find the top k predictions for each image.\n",
    "\n",
    "`tf.nn.top_k` will return the values and indices (class ids) of the top k predictions. So if k=3, for each sign, it'll return the 3 largest probabilities (out of a possible 43) and the correspoding class ids.\n",
    "\n",
    "Take this numpy array as an example. The values in the array represent predictions. The array contains softmax probabilities for five candidate images with six possible classes. `tk.nn.top_k` is used to choose the three classes with the highest probability:\n",
    "\n",
    "```\n",
    "# (5, 6) array\n",
    "a = np.array([[ 0.24879643,  0.07032244,  0.12641572,  0.34763842,  0.07893497,\n",
    "         0.12789202],\n",
    "       [ 0.28086119,  0.27569815,  0.08594638,  0.0178669 ,  0.18063401,\n",
    "         0.15899337],\n",
    "       [ 0.26076848,  0.23664738,  0.08020603,  0.07001922,  0.1134371 ,\n",
    "         0.23892179],\n",
    "       [ 0.11943333,  0.29198961,  0.02605103,  0.26234032,  0.1351348 ,\n",
    "         0.16505091],\n",
    "       [ 0.09561176,  0.34396535,  0.0643941 ,  0.16240774,  0.24206137,\n",
    "         0.09155967]])\n",
    "```\n",
    "\n",
    "Running it through `sess.run(tf.nn.top_k(tf.constant(a), k=3))` produces:\n",
    "\n",
    "```\n",
    "TopKV2(values=array([[ 0.34763842,  0.24879643,  0.12789202],\n",
    "       [ 0.28086119,  0.27569815,  0.18063401],\n",
    "       [ 0.26076848,  0.23892179,  0.23664738],\n",
    "       [ 0.29198961,  0.26234032,  0.16505091],\n",
    "       [ 0.34396535,  0.24206137,  0.16240774]]), indices=array([[3, 0, 5],\n",
    "       [0, 1, 4],\n",
    "       [0, 5, 1],\n",
    "       [1, 3, 5],\n",
    "       [1, 4, 3]], dtype=int32))\n",
    "```\n",
    "\n",
    "Looking just at the first row we get `[ 0.34763842,  0.24879643,  0.12789202]`, you can confirm these are the 3 largest probabilities in `a`. You'll also notice `[3, 0, 5]` are the corresponding indices."
   ]
  },
  {
   "cell_type": "markdown",
   "metadata": {},
   "source": [
    "#### For new images...\n",
    "\n",
    "<span style=\"color:green\"><b>Softmax Predictions</b></span>"
   ]
  },
  {
   "cell_type": "code",
   "execution_count": 99,
   "metadata": {
    "collapsed": false
   },
   "outputs": [
    {
     "data": {
      "image/png": "[encoded data removed]",
      "text/plain": [
       "<matplotlib.figure.Figure at 0x13a811278>"
      ]
     },
     "metadata": {},
     "output_type": "display_data"
    }
   ],
   "source": [
    "# This cell has the target class and all guesses, in a loop.\n",
    "with tf.Session() as sess:\n",
    "    saver.restore(sess, tf.train.latest_checkpoint('.'))\n",
    "    predictions = sess.run(logits, feed_dict={x:X_new, keep_prob:0.5})#random_X_test\n",
    "    probabilities = sess.run(tf.nn.softmax(predictions))\n",
    "    # Get the top values (softmax probabilites) and\n",
    "    # indices (class ids) of the top k predictions.\n",
    "    # top_k_v is an array of arrays of k probabilites for X_new images.\n",
    "    # top_k_i is an array of arrays of k guess for X_new images.\n",
    "    top_k_v, top_k_i = sess.run(tf.nn.top_k(probabilities,k=5))\n",
    "    #print(\"predictions:\",predictions)\n",
    "    #print(\"probabilities:\",probabilities)\n",
    "    #print(\"top_k_v:\",top_k_v)\n",
    "    #print(\"top_k_i:\",top_k_i)\n",
    "\n",
    "    n_top_guess_images = 5\n",
    "    images_per_row = n_top_guess_images + 1\n",
    "    fig, axs = plt.subplots(len(X_new),images_per_row, figsize=(12, 14))\n",
    "    fig.subplots_adjust(hspace = .4, wspace=.2)\n",
    "    axs = axs.ravel()\n",
    "    for i, image in enumerate(X_new):#random_X_test\n",
    "        # Source image\n",
    "        axs[images_per_row*i].axis('off')\n",
    "        axs[images_per_row*i].imshow(image.squeeze(), cmap='gray')\n",
    "        axs[images_per_row*i].set_title('Target Class: ' + str(y_new[i]))#random_y_test\n",
    "        \n",
    "        # Loop through the guesses.\n",
    "        for j in range(n_top_guess_images):\n",
    "            guess = top_k_i[i][j]\n",
    "            index = np.argwhere(y_valid == guess)[0][0]#y_test\n",
    "    \n",
    "            axs[images_per_row*i+j+1].axis('off')\n",
    "            axs[images_per_row*i+j+1].imshow(X_valid[index].squeeze(), cmap='gray')\n",
    "            axs[images_per_row*i+j+1].set_title('G{} C{} ({:.0f}%)'.format(j+1, guess, 100*top_k_v[i][j]))"
   ]
  },
  {
   "cell_type": "markdown",
   "metadata": {},
   "source": [
    "#### For images other than new..."
   ]
  },
  {
   "cell_type": "markdown",
   "metadata": {},
   "source": [
    "---\n",
    "\n",
    "## Step 4: Visualize the Neural Network's State with Test Images\n",
    "\n",
    " This Section is not required to complete but acts as an additional excersise for understaning the output of a neural network's weights. While neural networks can be a great learning device they are often referred to as a black box. We can understand what the weights of a neural network look like better by plotting their feature maps. After successfully training your neural network you can see what it's feature maps look like by plotting the output of the network's weight layers in response to a test stimuli image. From these plotted feature maps, it's possible to see what characteristics of an image the network finds interesting. For a sign, maybe the inner network feature maps react with high activation to the sign's boundary outline or to the contrast in the sign's painted symbol.\n",
    "\n",
    " Provided for you below is the function code that allows you to get the visualization output of any tensorflow weight layer you want. The inputs to the function should be a stimuli image, one used during training or a new one you provided, and then the tensorflow variable name that represents the layer's state during the training process, for instance if you wanted to see what the [LeNet lab's](https://classroom.udacity.com/nanodegrees/nd013/parts/fbf77062-5703-404e-b60c-95b78b2f3f9e/modules/6df7ae49-c61c-4bb2-a23e-6527e69209ec/lessons/601ae704-1035-4287-8b11-e2c2716217ad/concepts/d4aca031-508f-4e0b-b493-e7b706120f81) feature maps looked like for it's second convolutional layer you could enter conv2 as the tf_activation variable.\n",
    "\n",
    "For an example of what feature map outputs look like, check out NVIDIA's results in their paper [End-to-End Deep Learning for Self-Driving Cars](https://devblogs.nvidia.com/parallelforall/deep-learning-self-driving-cars/) in the section Visualization of internal CNN State. NVIDIA was able to show that their network's inner weights had high activations to road boundary lines by comparing feature maps from an image with a clear path to one without. Try experimenting with a similar test to show that your trained network's weights are looking for interesting features, whether it's looking at differences in feature maps from images with or without a sign, or even what feature maps look like in a trained network vs a completely untrained one on the same sign image.\n",
    "\n",
    "<figure>\n",
    " <img src=\"visualize_cnn.png\" width=\"380\" alt=\"Combined Image\" />\n",
    " <figcaption>\n",
    " <p></p> \n",
    " <p style=\"text-align: center;\"> Your output should look something like this (above)</p> \n",
    " </figcaption>\n",
    "</figure>\n",
    " <p></p> \n"
   ]
  },
  {
   "cell_type": "code",
   "execution_count": 97,
   "metadata": {
    "collapsed": true
   },
   "outputs": [],
   "source": [
    "### Visualize your network's feature maps here.\n",
    "### Feel free to use as many code cells as needed.\n",
    "\n",
    "# image_input: the test image being fed into the network to produce the feature maps\n",
    "# tf_activation: should be a tf variable name used during your training procedure that represents the calculated state of a specific weight layer\n",
    "# activation_min/max: can be used to view the activation contrast in more detail, by default matplot sets min and max to the actual min and max values of the output\n",
    "# plt_num: used to plot out multiple different weight feature map sets on the same block, just extend the plt number for each new feature map entry\n",
    "\n",
    "def outputFeatureMap(image_input, tf_activation, activation_min=-1, activation_max=-1 ,plt_num=1):\n",
    "    # Here make sure to preprocess your image_input in a way your network expects\n",
    "    # with size, normalization, ect if needed\n",
    "    # image_input =\n",
    "    # Note: x should be the same name as your network's tensorflow data placeholder variable\n",
    "    # If you get an error tf_activation is not defined it maybe having trouble accessing the variable from inside a function\n",
    "    activation = tf_activation.eval(session=sess,feed_dict={x : image_input})\n",
    "    featuremaps = activation.shape[3]\n",
    "    plt.figure(plt_num, figsize=(15,15))\n",
    "    for featuremap in range(featuremaps):\n",
    "        plt.subplot(6,8, featuremap+1) # sets the number of feature maps to show on each row and column\n",
    "        plt.title('FeatureMap ' + str(featuremap)) # displays the feature map number\n",
    "        if activation_min != -1 & activation_max != -1:\n",
    "            plt.imshow(activation[0,:,:, featuremap], interpolation=\"nearest\", vmin =activation_min, vmax=activation_max, cmap=\"gray\")\n",
    "        elif activation_max != -1:\n",
    "            plt.imshow(activation[0,:,:, featuremap], interpolation=\"nearest\", vmax=activation_max, cmap=\"gray\")\n",
    "        elif activation_min !=-1:\n",
    "            plt.imshow(activation[0,:,:, featuremap], interpolation=\"nearest\", vmin=activation_min, cmap=\"gray\")\n",
    "        else:\n",
    "            plt.imshow(activation[0,:,:, featuremap], interpolation=\"nearest\", cmap=\"gray\")"
   ]
  },
  {
   "cell_type": "markdown",
   "metadata": {},
   "source": [
    "### Question 9\n",
    "\n",
    "Discuss how you used the visual output of your trained network's feature maps to show that it had learned to look for interesting characteristics in traffic sign images\n"
   ]
  },
  {
   "cell_type": "markdown",
   "metadata": {},
   "source": [
    "**Answer:**"
   ]
  },
  {
   "cell_type": "markdown",
   "metadata": {},
   "source": [
    "> **Note**: Once you have completed all of the code implementations and successfully answered each question above, you may finalize your work by exporting the iPython Notebook as an HTML document. You can do this by using the menu above and navigating to  \\n\",\n",
    "    \"**File -> Download as -> HTML (.html)**. Include the finished document along with this notebook as your submission."
   ]
  },
  {
   "cell_type": "markdown",
   "metadata": {},
   "source": [
    "### Project Writeup\n",
    "\n",
    "Once you have completed the code implementation, document your results in a project writeup using this [template](https://github.com/udacity/CarND-Traffic-Sign-Classifier-Project/blob/master/writeup_template.md) as a guide. The writeup can be in a markdown or pdf file. "
   ]
  }
 ],
 "metadata": {
  "anaconda-cloud": {},
  "kernelspec": {
   "display_name": "Python 3",
   "language": "python",
   "name": "python3"
  },
  "language_info": {
   "codemirror_mode": {
    "name": "ipython",
    "version": 3
   },
   "file_extension": ".py",
   "mimetype": "text/x-python",
   "name": "python",
   "nbconvert_exporter": "python",
   "pygments_lexer": "ipython3",
   "version": "3.5.2"
  },
  "widgets": {
   "state": {},
   "version": "1.1.2"
  }
 },
 "nbformat": 4,
 "nbformat_minor": 1
}
